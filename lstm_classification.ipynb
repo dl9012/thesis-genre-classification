{
 "cells": [
  {
   "cell_type": "markdown",
   "metadata": {},
   "source": [
    "# Movie Genre Classification with LSTM"
   ]
  },
  {
   "cell_type": "code",
   "execution_count": 11,
   "metadata": {},
   "outputs": [],
   "source": [
    "import pandas as pd\n",
    "import numpy as np\n",
    "import nltk\n",
    "import tensorflow as tf\n",
    "from nltk.corpus import stopwords\n",
    "from nltk.stem import WordNetLemmatizer\n",
    "from sklearn.preprocessing import MultiLabelBinarizer\n",
    "from sklearn.model_selection import train_test_split\n",
    "from sklearn.metrics import accuracy_score, precision_score, recall_score, f1_score\n",
    "\n",
    "from tensorflow.keras.preprocessing.text import Tokenizer\n",
    "from tensorflow.keras.preprocessing.sequence import pad_sequences\n",
    "from tensorflow.keras.models import Sequential\n",
    "from tensorflow.keras.layers import Embedding, LSTM, Dense\n",
    "from tensorflow.keras.initializers import Constant\n",
    "from gensim.models import KeyedVectors\n",
    "\n",
    "RANDOM_STATE = 1212\n",
    "\n",
    "cmu_data = pd.read_csv('cmu_data_final.csv')\n",
    "imdb_data = pd.read_csv('imdb_data_final.csv')"
   ]
  },
  {
   "cell_type": "markdown",
   "metadata": {},
   "source": [
    "# Dataset preparation"
   ]
  },
  {
   "cell_type": "code",
   "execution_count": 12,
   "metadata": {},
   "outputs": [
    {
     "name": "stderr",
     "output_type": "stream",
     "text": [
      "[nltk_data] Downloading package stopwords to\n",
      "[nltk_data]     C:\\Users\\David\\AppData\\Roaming\\nltk_data...\n",
      "[nltk_data]   Package stopwords is already up-to-date!\n",
      "[nltk_data] Downloading package wordnet to\n",
      "[nltk_data]     C:\\Users\\David\\AppData\\Roaming\\nltk_data...\n",
      "[nltk_data]   Package wordnet is already up-to-date!\n"
     ]
    },
    {
     "data": {
      "text/html": [
       "<div>\n",
       "<style scoped>\n",
       "    .dataframe tbody tr th:only-of-type {\n",
       "        vertical-align: middle;\n",
       "    }\n",
       "\n",
       "    .dataframe tbody tr th {\n",
       "        vertical-align: top;\n",
       "    }\n",
       "\n",
       "    .dataframe thead th {\n",
       "        text-align: right;\n",
       "    }\n",
       "</style>\n",
       "<table border=\"1\" class=\"dataframe\">\n",
       "  <thead>\n",
       "    <tr style=\"text-align: right;\">\n",
       "      <th></th>\n",
       "      <th>movie_name</th>\n",
       "      <th>year</th>\n",
       "      <th>genre</th>\n",
       "      <th>plot</th>\n",
       "      <th>processed_plot</th>\n",
       "    </tr>\n",
       "  </thead>\n",
       "  <tbody>\n",
       "    <tr>\n",
       "      <th>0</th>\n",
       "      <td>Go West, Young Man</td>\n",
       "      <td>1936</td>\n",
       "      <td>Comedy</td>\n",
       "      <td>Movie star Mavis Arden, as amorous in private ...</td>\n",
       "      <td>movie star mavis arden amorous private pure pu...</td>\n",
       "    </tr>\n",
       "    <tr>\n",
       "      <th>1</th>\n",
       "      <td>Re-Animated</td>\n",
       "      <td>2006</td>\n",
       "      <td>Comedy</td>\n",
       "      <td>Jimmy is the kid everybody ignores and uses. O...</td>\n",
       "      <td>jimmy kid everybody ignores us one day get fre...</td>\n",
       "    </tr>\n",
       "    <tr>\n",
       "      <th>2</th>\n",
       "      <td>Blue Blazes</td>\n",
       "      <td>1936</td>\n",
       "      <td>Comedy</td>\n",
       "      <td>Buster becomes a fireman, but unfortunately no...</td>\n",
       "      <td>buster becomes fireman unfortunately particula...</td>\n",
       "    </tr>\n",
       "    <tr>\n",
       "      <th>3</th>\n",
       "      <td>Meet the Baron</td>\n",
       "      <td>1933</td>\n",
       "      <td>Comedy</td>\n",
       "      <td>The famous Baron Munchausen dumps two dimwits ...</td>\n",
       "      <td>famous baron munchausen dump two dimwit africa...</td>\n",
       "    </tr>\n",
       "    <tr>\n",
       "      <th>4</th>\n",
       "      <td>I Got the Hook Up</td>\n",
       "      <td>1998</td>\n",
       "      <td>Comedy</td>\n",
       "      <td>Two broke buddies feel lucky when they come up...</td>\n",
       "      <td>two broke buddy feel lucky come upon truckload...</td>\n",
       "    </tr>\n",
       "  </tbody>\n",
       "</table>\n",
       "</div>"
      ],
      "text/plain": [
       "           movie_name  year   genre  \\\n",
       "0  Go West, Young Man  1936  Comedy   \n",
       "1         Re-Animated  2006  Comedy   \n",
       "2         Blue Blazes  1936  Comedy   \n",
       "3      Meet the Baron  1933  Comedy   \n",
       "4   I Got the Hook Up  1998  Comedy   \n",
       "\n",
       "                                                plot  \\\n",
       "0  Movie star Mavis Arden, as amorous in private ...   \n",
       "1  Jimmy is the kid everybody ignores and uses. O...   \n",
       "2  Buster becomes a fireman, but unfortunately no...   \n",
       "3  The famous Baron Munchausen dumps two dimwits ...   \n",
       "4  Two broke buddies feel lucky when they come up...   \n",
       "\n",
       "                                      processed_plot  \n",
       "0  movie star mavis arden amorous private pure pu...  \n",
       "1  jimmy kid everybody ignores us one day get fre...  \n",
       "2  buster becomes fireman unfortunately particula...  \n",
       "3  famous baron munchausen dump two dimwit africa...  \n",
       "4  two broke buddy feel lucky come upon truckload...  "
      ]
     },
     "execution_count": 12,
     "metadata": {},
     "output_type": "execute_result"
    }
   ],
   "source": [
    "nltk.download('stopwords')\n",
    "nltk.download('wordnet')\n",
    "stop_words = set(stopwords.words('english'))\n",
    "lemmatizer = WordNetLemmatizer()\n",
    "\n",
    "def preprocess_text(text):\n",
    "    # Tokenize, remove stopwords, and lemmatize\n",
    "    tokens = nltk.word_tokenize(text.lower())\n",
    "    filtered_tokens = [lemmatizer.lemmatize(token) for token in tokens if token not in stop_words and token.isalnum()]\n",
    "    return ' '.join(filtered_tokens)\n",
    "\n",
    "cmu_data['processed_plot'] = cmu_data['plot'].apply(preprocess_text)\n",
    "imdb_data['processed_plot'] = imdb_data['plot'].apply(preprocess_text)\n",
    "\n",
    "imdb_data.head()"
   ]
  },
  {
   "cell_type": "code",
   "execution_count": 13,
   "metadata": {},
   "outputs": [],
   "source": [
    "# Word2vec embeddings, trained on the CMU dataset\n",
    "word2vec_model = KeyedVectors.load('word2vec_model_from_cmu_utf8.bin')"
   ]
  },
  {
   "cell_type": "markdown",
   "metadata": {},
   "source": [
    "### CMU"
   ]
  },
  {
   "cell_type": "code",
   "execution_count": 14,
   "metadata": {},
   "outputs": [],
   "source": [
    "# Tokenize and pad the text sequences\n",
    "cmu_tokenizer = Tokenizer()\n",
    "cmu_tokenizer.fit_on_texts(cmu_data['processed_plot'])\n",
    "cmu_sequences = cmu_tokenizer.texts_to_sequences(cmu_data['processed_plot'])\n",
    "word_index = cmu_tokenizer.word_index\n",
    "cmu_padded_sequences = pad_sequences(cmu_sequences, maxlen=300)\n",
    "\n",
    "# Label encoding\n",
    "cmu_data['genre'] = cmu_data['genre'].apply(lambda x: x.split('|'))\n",
    "cmu_mlb = MultiLabelBinarizer()\n",
    "cmu_genres_encoded = cmu_mlb.fit_transform(cmu_data['genre'])\n",
    "\n",
    "# Train-test split\n",
    "cmu_X_train, cmu_X_test, cmu_y_train, cmu_y_test = train_test_split(cmu_padded_sequences, cmu_genres_encoded, test_size=0.2, random_state=RANDOM_STATE)"
   ]
  },
  {
   "cell_type": "markdown",
   "metadata": {},
   "source": [
    "### IMDb"
   ]
  },
  {
   "cell_type": "markdown",
   "metadata": {},
   "source": [
    "# Model preparation"
   ]
  },
  {
   "cell_type": "code",
   "execution_count": 15,
   "metadata": {},
   "outputs": [],
   "source": [
    "# Create the word embedding matrix\n",
    "cmu_embedding_dim = word2vec_model.vector_size\n",
    "cmu_embedding_matrix = np.zeros((len(word_index) + 1, cmu_embedding_dim))\n",
    "for word, i in word_index.items():\n",
    "    if word in word2vec_model.wv:\n",
    "        cmu_embedding_matrix[i] = word2vec_model.wv[word]"
   ]
  },
  {
   "cell_type": "code",
   "execution_count": 16,
   "metadata": {},
   "outputs": [
    {
     "name": "stdout",
     "output_type": "stream",
     "text": [
      "Epoch 1/5\n",
      "\u001b[1m72/72\u001b[0m \u001b[32m━━━━━━━━━━━━━━━━━━━━\u001b[0m\u001b[37m\u001b[0m \u001b[1m54s\u001b[0m 653ms/step - accuracy: 0.3635 - loss: 0.5588 - val_accuracy: 0.5520 - val_loss: 0.4640\n",
      "Epoch 2/5\n",
      "\u001b[1m72/72\u001b[0m \u001b[32m━━━━━━━━━━━━━━━━━━━━\u001b[0m\u001b[37m\u001b[0m \u001b[1m44s\u001b[0m 612ms/step - accuracy: 0.4987 - loss: 0.4766 - val_accuracy: 0.6148 - val_loss: 0.4152\n",
      "Epoch 3/5\n",
      "\u001b[1m72/72\u001b[0m \u001b[32m━━━━━━━━━━━━━━━━━━━━\u001b[0m\u001b[37m\u001b[0m \u001b[1m43s\u001b[0m 600ms/step - accuracy: 0.6160 - loss: 0.4097 - val_accuracy: 0.6288 - val_loss: 0.3995\n",
      "Epoch 4/5\n",
      "\u001b[1m72/72\u001b[0m \u001b[32m━━━━━━━━━━━━━━━━━━━━\u001b[0m\u001b[37m\u001b[0m \u001b[1m44s\u001b[0m 615ms/step - accuracy: 0.6697 - loss: 0.3665 - val_accuracy: 0.6576 - val_loss: 0.3844\n",
      "Epoch 5/5\n",
      "\u001b[1m72/72\u001b[0m \u001b[32m━━━━━━━━━━━━━━━━━━━━\u001b[0m\u001b[37m\u001b[0m \u001b[1m44s\u001b[0m 608ms/step - accuracy: 0.7147 - loss: 0.3205 - val_accuracy: 0.6480 - val_loss: 0.3936\n"
     ]
    },
    {
     "data": {
      "text/plain": [
       "<keras.src.callbacks.history.History at 0x157b4497050>"
      ]
     },
     "execution_count": 16,
     "metadata": {},
     "output_type": "execute_result"
    }
   ],
   "source": [
    "# Define and compile the LSTM model\n",
    "model = Sequential()\n",
    "model.add(Embedding(len(word_index) + 1, cmu_embedding_dim, embeddings_initializer=Constant(cmu_embedding_matrix), trainable=True))\n",
    "model.add(LSTM(192, dropout=0.25, recurrent_dropout=0.25))\n",
    "model.add(Dense(len(cmu_mlb.classes_), activation='sigmoid'))\n",
    "\n",
    "# Compile the model\n",
    "model.compile(loss='binary_crossentropy', optimizer='adam', metrics=['accuracy'])\n",
    "\n",
    "# Train the model\n",
    "model.fit(cmu_X_train, cmu_y_train, batch_size=64, epochs=5, validation_data=(cmu_X_test, cmu_y_test))"
   ]
  },
  {
   "cell_type": "code",
   "execution_count": 17,
   "metadata": {},
   "outputs": [
    {
     "name": "stdout",
     "output_type": "stream",
     "text": [
      "\u001b[1m36/36\u001b[0m \u001b[32m━━━━━━━━━━━━━━━━━━━━\u001b[0m\u001b[37m\u001b[0m \u001b[1m4s\u001b[0m 102ms/step\n"
     ]
    }
   ],
   "source": [
    "# Make predictions on the test set\n",
    "cmu_y_pred = model.predict(cmu_X_test)\n",
    "cmu_y_pred_classes = (cmu_y_pred > 0.5).astype(int) #0.5 här är att den uppskattade sannolikheten måste vara över 0.5. Annars blir den None (gör stor inpact på precision/recall men är oftast en trade off mellan dom båda)"
   ]
  },
  {
   "cell_type": "markdown",
   "metadata": {},
   "source": [
    "# Evaluation"
   ]
  },
  {
   "cell_type": "code",
   "execution_count": 18,
   "metadata": {},
   "outputs": [
    {
     "name": "stdout",
     "output_type": "stream",
     "text": [
      "Accuracy: 0.5676855895196506\n",
      "Precision: 0.6970021413276232\n",
      "Recall: 0.5685589519650655\n",
      "F1-score: 0.6262626262626263\n"
     ]
    }
   ],
   "source": [
    "# Calculate evaluation metrics\n",
    "accuracy = accuracy_score(cmu_y_test, cmu_y_pred_classes)\n",
    "precision = precision_score(cmu_y_test, cmu_y_pred_classes, average='micro')\n",
    "recall = recall_score(cmu_y_test, cmu_y_pred_classes, average='micro')\n",
    "f1 = f1_score(cmu_y_test, cmu_y_pred_classes, average='micro')\n",
    "\n",
    "print(f'Accuracy: {accuracy}')\n",
    "print(f'Precision: {precision}')\n",
    "print(f'Recall: {recall}')\n",
    "print(f'F1-score: {f1}')"
   ]
  },
  {
   "cell_type": "code",
   "execution_count": 19,
   "metadata": {},
   "outputs": [
    {
     "name": "stdout",
     "output_type": "stream",
     "text": [
      "Genre: Comedy\n",
      "Accuracy: 0.8375545851528384\n",
      "Precision: 0.7478260869565218\n",
      "Recall: 0.5733333333333334\n",
      "F1-score: 0.6490566037735849\n",
      "\n",
      "Genre: Drama\n",
      "Accuracy: 0.8034934497816594\n",
      "Precision: 0.6259259259259259\n",
      "Recall: 0.5767918088737202\n",
      "F1-score: 0.6003552397868561\n",
      "\n",
      "Genre: Horror\n",
      "Accuracy: 0.8724890829694323\n",
      "Precision: 0.7237354085603113\n",
      "Recall: 0.7126436781609196\n",
      "F1-score: 0.7181467181467182\n",
      "\n",
      "Genre: Thriller\n",
      "Accuracy: 0.8078602620087336\n",
      "Precision: 0.7005649717514124\n",
      "Recall: 0.4261168384879725\n",
      "F1-score: 0.5299145299145299\n",
      "\n"
     ]
    }
   ],
   "source": [
    "# Calculate evaluation metrics for each genre\n",
    "genre_scores = {}\n",
    "for i, genre in enumerate(cmu_mlb.classes_):\n",
    "    genre_accuracy = accuracy_score(cmu_y_test[:, i], cmu_y_pred_classes[:, i])\n",
    "    genre_precision = precision_score(cmu_y_test[:, i], cmu_y_pred_classes[:, i])\n",
    "    genre_recall = recall_score(cmu_y_test[:, i], cmu_y_pred_classes[:, i])\n",
    "    genre_f1 = f1_score(cmu_y_test[:, i], cmu_y_pred_classes[:, i])\n",
    "    \n",
    "    genre_scores[genre] = {'Accuracy': genre_accuracy,\n",
    "                           'Precision': genre_precision,\n",
    "                           'Recall': genre_recall,\n",
    "                           'F1-score': genre_f1}\n",
    "\n",
    "# Print scores for each genre\n",
    "for genre, scores in genre_scores.items():\n",
    "    print(f'Genre: {genre}')\n",
    "    print(f'Accuracy: {scores[\"Accuracy\"]}')\n",
    "    print(f'Precision: {scores[\"Precision\"]}')\n",
    "    print(f'Recall: {scores[\"Recall\"]}')\n",
    "    print(f'F1-score: {scores[\"F1-score\"]}')\n",
    "    print()"
   ]
  }
 ],
 "metadata": {
  "kernelspec": {
   "display_name": "Python 3",
   "language": "python",
   "name": "python3"
  },
  "language_info": {
   "codemirror_mode": {
    "name": "ipython",
    "version": 3
   },
   "file_extension": ".py",
   "mimetype": "text/x-python",
   "name": "python",
   "nbconvert_exporter": "python",
   "pygments_lexer": "ipython3",
   "version": "3.11.5"
  }
 },
 "nbformat": 4,
 "nbformat_minor": 2
}
