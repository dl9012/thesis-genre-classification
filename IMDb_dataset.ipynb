{
 "cells": [
  {
   "cell_type": "markdown",
   "metadata": {},
   "source": [
    "# Preparing the IMDb dataset."
   ]
  },
  {
   "cell_type": "code",
   "execution_count": 36,
   "metadata": {},
   "outputs": [],
   "source": [
    "import pandas as pd\n",
    "import numpy as np\n",
    "import matplotlib.pyplot as plt \n",
    "import seaborn as sns\n",
    "import json\n",
    "import requests\n",
    "\n",
    "api_key1 = \"b58bb13f\"\n",
    "api_key2 = \"9bf3218a\"\n",
    "\n",
    "RANDOM_STATE = 1212\n",
    "\n",
    "cmu_data = pd.read_csv(\"cmu_dataset_v1.csv\")\n",
    "cmu_backups = pd.read_csv(\"cmu_movies_shuffled.csv\")\n",
    "asd = pd.DataFrame(columns=[\"Title\", \"Year\", \"Genre\", \"Plot\"])"
   ]
  },
  {
   "cell_type": "code",
   "execution_count": 34,
   "metadata": {},
   "outputs": [
    {
     "name": "stdout",
     "output_type": "stream",
     "text": [
      "Error: 401 - {\"Response\":\"False\",\"Error\":\"Request limit reached!\"}\n",
      "{'Response': 'False', 'Error': 'Request limit reached!'}\n"
     ]
    }
   ],
   "source": [
    "# Initialize asd as a DataFrame\n",
    "\n",
    "\n",
    "movie_name = \"Dune\"\n",
    "year = 2024\n",
    "url = f\"http://www.omdbapi.com/?t={movie_name}&y={year}&plot=full&apikey={api_key1}\"\n",
    "response = requests.get(url)\n",
    "data = response.json()\n",
    "\n",
    "# Check if the request was successful\n",
    "if response.status_code == 200:\n",
    "    asd.loc[len(asd)] = [data['Title'], data['Year'], data['Genre'], data['Plot']]\n",
    "else:\n",
    "    print(f\"Error: {response.status_code} - {response.text}\")\n",
    "\n",
    "print(data)"
   ]
  },
  {
   "cell_type": "code",
   "execution_count": 24,
   "metadata": {},
   "outputs": [
    {
     "data": {
      "text/html": [
       "<div>\n",
       "<style scoped>\n",
       "    .dataframe tbody tr th:only-of-type {\n",
       "        vertical-align: middle;\n",
       "    }\n",
       "\n",
       "    .dataframe tbody tr th {\n",
       "        vertical-align: top;\n",
       "    }\n",
       "\n",
       "    .dataframe thead th {\n",
       "        text-align: right;\n",
       "    }\n",
       "</style>\n",
       "<table border=\"1\" class=\"dataframe\">\n",
       "  <thead>\n",
       "    <tr style=\"text-align: right;\">\n",
       "      <th></th>\n",
       "      <th>Title</th>\n",
       "      <th>Year</th>\n",
       "      <th>Genre</th>\n",
       "      <th>Plot</th>\n",
       "    </tr>\n",
       "  </thead>\n",
       "  <tbody>\n",
       "    <tr>\n",
       "      <th>0</th>\n",
       "      <td>Inception</td>\n",
       "      <td>2010</td>\n",
       "      <td>Action, Adventure, Sci-Fi</td>\n",
       "      <td>Dom Cobb is a skilled thief, the absolute best...</td>\n",
       "    </tr>\n",
       "    <tr>\n",
       "      <th>1</th>\n",
       "      <td>Interstellar</td>\n",
       "      <td>2014</td>\n",
       "      <td>Adventure, Drama, Sci-Fi</td>\n",
       "      <td>Earth's future has been riddled by disasters, ...</td>\n",
       "    </tr>\n",
       "  </tbody>\n",
       "</table>\n",
       "</div>"
      ],
      "text/plain": [
       "          Title  Year                      Genre  \\\n",
       "0     Inception  2010  Action, Adventure, Sci-Fi   \n",
       "1  Interstellar  2014   Adventure, Drama, Sci-Fi   \n",
       "\n",
       "                                                Plot  \n",
       "0  Dom Cobb is a skilled thief, the absolute best...  \n",
       "1  Earth's future has been riddled by disasters, ...  "
      ]
     },
     "execution_count": 24,
     "metadata": {},
     "output_type": "execute_result"
    }
   ],
   "source": [
    "# check what asd is\n",
    "asd.head()"
   ]
  },
  {
   "cell_type": "code",
   "execution_count": 43,
   "metadata": {},
   "outputs": [
    {
     "ename": "KeyboardInterrupt",
     "evalue": "",
     "output_type": "error",
     "traceback": [
      "\u001b[1;31m---------------------------------------------------------------------------\u001b[0m",
      "\u001b[1;31mKeyboardInterrupt\u001b[0m                         Traceback (most recent call last)",
      "Cell \u001b[1;32mIn[43], line 26\u001b[0m\n\u001b[0;32m     23\u001b[0m response \u001b[38;5;241m=\u001b[39m requests\u001b[38;5;241m.\u001b[39mget(url)\n\u001b[0;32m     24\u001b[0m data \u001b[38;5;241m=\u001b[39m response\u001b[38;5;241m.\u001b[39mjson()\n\u001b[1;32m---> 26\u001b[0m time\u001b[38;5;241m.\u001b[39msleep(\u001b[38;5;241m1\u001b[39m)\n\u001b[0;32m     28\u001b[0m \u001b[38;5;28;01mif\u001b[39;00m data[\u001b[38;5;124m\"\u001b[39m\u001b[38;5;124mResponse\u001b[39m\u001b[38;5;124m\"\u001b[39m] \u001b[38;5;241m==\u001b[39m \u001b[38;5;124m\"\u001b[39m\u001b[38;5;124mFalse\u001b[39m\u001b[38;5;124m\"\u001b[39m:\n\u001b[0;32m     29\u001b[0m     \u001b[38;5;28;01mif\u001b[39;00m data[\u001b[38;5;124m\"\u001b[39m\u001b[38;5;124mError\u001b[39m\u001b[38;5;124m\"\u001b[39m] \u001b[38;5;241m==\u001b[39m \u001b[38;5;124m\"\u001b[39m\u001b[38;5;124mRequest limit reached!\u001b[39m\u001b[38;5;124m\"\u001b[39m:\n",
      "\u001b[1;31mKeyboardInterrupt\u001b[0m: "
     ]
    }
   ],
   "source": [
    "# using the cmu_data dataframe to get the movie names and years, make api requests to build a new dataframe with the new movies.\n",
    "# if {\"Response\":\"False\",\"Error\":\"Movie not found!\"}, the movie was not found and it will not be added to the new dataframe.\n",
    "# instead, the movie will be added to a df of movies that were not found.\n",
    "# if the plot summary contains less than 2 sentences, the movie will not be added to the new dataframe.\n",
    "# use this code to check the length of the plot summary:\n",
    "# plot_summaries = plot_summaries[plot_summaries[\"plot\"].apply(lambda x: x.count(\".\") >= 2)]\n",
    "\n",
    "# loop through the cmu_data dataframe and make api requests to get the movie data\n",
    "\n",
    "import time\n",
    "\n",
    "REMEMBER TO CHANGE THESE VARIABLES TO THE CORRECT ONES\n",
    "not_found = pd.DataFrame(columns=[\"movie_name\", \"year\"])\n",
    "imdb_data = pd.DataFrame(columns=[\"movie_name\", \"year\", \"genre\", \"plot\"])\n",
    "\n",
    "for index, row in cmu_data.iterrows():\n",
    "    # check if 'movie_name' and 'year' are already in not_found or imdb_data. if they are, skip the row.\n",
    "    if row[\"movie_name\"] in not_found[\"movie_name\"].values and row[\"year\"] in not_found[\"year\"].values:\n",
    "        continue\n",
    "    if row[\"movie_name\"] in imdb_data[\"movie_name\"].values and row[\"year\"] in imdb_data[\"year\"].values:\n",
    "        continue\n",
    "\n",
    "    url = f\"http://www.omdbapi.com/?t={row['movie_name']}&y={row['year']}&plot=full&apikey={api_key2}\"\n",
    "    response = requests.get(url)\n",
    "    data = response.json()\n",
    "\n",
    "    time.sleep(1)\n",
    "\n",
    "    if data[\"Response\"] == \"False\":\n",
    "        if data[\"Error\"] == \"Request limit reached!\":\n",
    "            print(\"Request limit reached!\")\n",
    "            break\n",
    "        else: \n",
    "            not_found.loc[len(not_found)] = [row[\"movie_name\"], row[\"year\"]]\n",
    "    else:\n",
    "        if data[\"Plot\"].count(\".\") >= 2:\n",
    "            imdb_data.loc[len(imdb_data)] = [data['Title'], data['Year'], data['Genre'], data['Plot']]\n",
    "        else:\n",
    "            not_found.loc[len(not_found)] = [row[\"movie_name\"], row[\"year\"]]\n",
    "\n",
    "\n",
    "# remove all rows in not_found from cmu_data \n",
    "# for each row removed from cmu data, add a replacement row from cmu_backups and remove that row from cmu_backups\n",
    "# if a 'Comedy' movie is removed from cmu_data, the replacement row has to be a 'Comedy' movie\n"
   ]
  },
  {
   "cell_type": "code",
   "execution_count": 45,
   "metadata": {},
   "outputs": [
    {
     "data": {
      "text/html": [
       "<div>\n",
       "<style scoped>\n",
       "    .dataframe tbody tr th:only-of-type {\n",
       "        vertical-align: middle;\n",
       "    }\n",
       "\n",
       "    .dataframe tbody tr th {\n",
       "        vertical-align: top;\n",
       "    }\n",
       "\n",
       "    .dataframe thead th {\n",
       "        text-align: right;\n",
       "    }\n",
       "</style>\n",
       "<table border=\"1\" class=\"dataframe\">\n",
       "  <thead>\n",
       "    <tr style=\"text-align: right;\">\n",
       "      <th></th>\n",
       "      <th>movie_name</th>\n",
       "      <th>year</th>\n",
       "      <th>genre</th>\n",
       "      <th>plot</th>\n",
       "    </tr>\n",
       "  </thead>\n",
       "  <tbody>\n",
       "    <tr>\n",
       "      <th>0</th>\n",
       "      <td>The Laurel-Hardy Murder Case</td>\n",
       "      <td>1930</td>\n",
       "      <td>Short, Comedy, Crime</td>\n",
       "      <td>It looks as if the boys might no longer need t...</td>\n",
       "    </tr>\n",
       "    <tr>\n",
       "      <th>1</th>\n",
       "      <td>Kung Phooey!</td>\n",
       "      <td>2003</td>\n",
       "      <td>Comedy</td>\n",
       "      <td>The chosen one from China's mystical Shur-Li T...</td>\n",
       "    </tr>\n",
       "    <tr>\n",
       "      <th>2</th>\n",
       "      <td>Things Are Tough All Over</td>\n",
       "      <td>1982</td>\n",
       "      <td>Action, Comedy</td>\n",
       "      <td>Cheech and Chong work briefly as car-wash atte...</td>\n",
       "    </tr>\n",
       "    <tr>\n",
       "      <th>3</th>\n",
       "      <td>The Twelve Chairs</td>\n",
       "      <td>1970</td>\n",
       "      <td>Comedy, Drama</td>\n",
       "      <td>A treasure hunt. An aging ex-nobleman of the C...</td>\n",
       "    </tr>\n",
       "    <tr>\n",
       "      <th>4</th>\n",
       "      <td>Crocodile Dundee II</td>\n",
       "      <td>1988</td>\n",
       "      <td>Action, Adventure, Comedy</td>\n",
       "      <td>One short year after the life-changing adventu...</td>\n",
       "    </tr>\n",
       "  </tbody>\n",
       "</table>\n",
       "</div>"
      ],
      "text/plain": [
       "                     movie_name  year                      genre  \\\n",
       "0  The Laurel-Hardy Murder Case  1930       Short, Comedy, Crime   \n",
       "1                  Kung Phooey!  2003                     Comedy   \n",
       "2     Things Are Tough All Over  1982             Action, Comedy   \n",
       "3             The Twelve Chairs  1970              Comedy, Drama   \n",
       "4           Crocodile Dundee II  1988  Action, Adventure, Comedy   \n",
       "\n",
       "                                                plot  \n",
       "0  It looks as if the boys might no longer need t...  \n",
       "1  The chosen one from China's mystical Shur-Li T...  \n",
       "2  Cheech and Chong work briefly as car-wash atte...  \n",
       "3  A treasure hunt. An aging ex-nobleman of the C...  \n",
       "4  One short year after the life-changing adventu...  "
      ]
     },
     "execution_count": 45,
     "metadata": {},
     "output_type": "execute_result"
    }
   ],
   "source": [
    "imdb_data.head()"
   ]
  },
  {
   "cell_type": "code",
   "execution_count": 44,
   "metadata": {},
   "outputs": [
    {
     "data": {
      "text/plain": [
       "((8, 4), (6, 2))"
      ]
     },
     "execution_count": 44,
     "metadata": {},
     "output_type": "execute_result"
    }
   ],
   "source": [
    "imdb_data.shape, not_found.shape"
   ]
  },
  {
   "cell_type": "code",
   "execution_count": 42,
   "metadata": {},
   "outputs": [],
   "source": [
    "not_found.to_csv(\"not_found_movies.csv\", index=False)\n",
    "imdb_data.to_csv(\"imdb_data_found.csv\", index=False)"
   ]
  }
 ],
 "metadata": {
  "kernelspec": {
   "display_name": "Python 3",
   "language": "python",
   "name": "python3"
  },
  "language_info": {
   "codemirror_mode": {
    "name": "ipython",
    "version": 3
   },
   "file_extension": ".py",
   "mimetype": "text/x-python",
   "name": "python",
   "nbconvert_exporter": "python",
   "pygments_lexer": "ipython3",
   "version": "3.11.5"
  }
 },
 "nbformat": 4,
 "nbformat_minor": 2
}
