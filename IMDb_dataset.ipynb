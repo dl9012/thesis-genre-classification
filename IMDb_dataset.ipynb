{
 "cells": [
  {
   "cell_type": "markdown",
   "metadata": {},
   "source": [
    "# Preparing the IMDb dataset."
   ]
  },
  {
   "cell_type": "code",
   "execution_count": 1,
   "metadata": {},
   "outputs": [],
   "source": [
    "import pandas as pd\n",
    "import numpy as np\n",
    "import matplotlib.pyplot as plt \n",
    "import seaborn as sns\n",
    "import json\n",
    "import requests\n",
    "import time\n",
    "\n",
    "api_key1 = \"b58bb13f\"\n",
    "api_key2 = \"9bf3218a\"\n",
    "\n",
    "RANDOM_STATE = 1212\n",
    "\n",
    "cmu_data = pd.read_csv(\"cmu_dataset_v2.csv\")\n",
    "cmu_backups = pd.read_csv(\"cmu_movies_backup.csv\")\n",
    "\n",
    "##\n",
    "asd = pd.DataFrame(columns=[\"Title\", \"Year\", \"Genre\", \"Plot\"])\n",
    "##"
   ]
  },
  {
   "cell_type": "code",
   "execution_count": 2,
   "metadata": {},
   "outputs": [
    {
     "name": "stdout",
     "output_type": "stream",
     "text": [
      "Request limit reached!\n"
     ]
    }
   ],
   "source": [
    "# using the cmu_data dataframe to get the movie names and years, make api requests to build a new dataframe with the new movies.\n",
    "# if {\"Response\":\"False\",\"Error\":\"Movie not found!\"}, the movie was not found and it will not be added to the new dataframe.\n",
    "# instead, the movie will be added to a df of movies that were not found.\n",
    "# if the plot summary contains less than 2 sentences, the movie will not be added to the new dataframe.\n",
    "# use this code to check the length of the plot summary:\n",
    "# plot_summaries = plot_summaries[plot_summaries[\"plot\"].apply(lambda x: x.count(\".\") >= 2)]\n",
    "\n",
    "# loop through the cmu_data dataframe and make api requests to get the movie data\n",
    "\n",
    "\n",
    "\n",
    "# If no .csv files exist yet, uncomment the following lines and comment the others\n",
    "# not_found = pd.DataFrame(columns=[\"movie_name\", \"year\", \"genre\"])\n",
    "# imdb_data = pd.DataFrame(columns=[\"movie_name\", \"year\", \"genre\", \"plot\"])\n",
    "\n",
    "# If the .csv files already exist, run the following lines\n",
    "not_found = pd.read_csv(\"not_found_movies.csv\")\n",
    "imdb_data = pd.read_csv(\"imdb_data_found.csv\")\n",
    "\n",
    "\n",
    "\n",
    "\n",
    "for index, row in cmu_data.iterrows():\n",
    "    if row[\"movie_name\"] in not_found[\"movie_name\"].values and row[\"year\"] in not_found[\"year\"].values and row[\"genre\"] in not_found[\"genre\"].values:\n",
    "        continue\n",
    "    if row[\"movie_name\"] in imdb_data[\"movie_name\"].values and row[\"year\"] in imdb_data[\"year\"].values and row[\"genre\"] in imdb_data[\"genre\"].values:\n",
    "        continue\n",
    "\n",
    "    url = f\"http://www.omdbapi.com/?t={row['movie_name']}&y={row['year']}&plot=full&apikey={api_key1}\"\n",
    "    response = requests.get(url)\n",
    "    data = response.json()\n",
    "\n",
    "    time.sleep(0.5)\n",
    "\n",
    "    if data[\"Response\"] == \"False\":\n",
    "        if data[\"Error\"] == \"Request limit reached!\":\n",
    "            print(\"Request limit reached!\")\n",
    "            break\n",
    "        else: \n",
    "            not_found.loc[len(not_found)] = [row[\"movie_name\"], int(row[\"year\"]), row['genre']]\n",
    "    else:\n",
    "        if data[\"Plot\"].count(\".\") >= 2:\n",
    "            imdb_data.loc[len(imdb_data)] = [data['Title'], int(data['Year']), row['genre'], data['Plot']]\n",
    "        else:\n",
    "            not_found.loc[len(not_found)] = [row[\"movie_name\"], int(row[\"year\"]), row['genre']]\n",
    "\n",
    "\n",
    "not_found.to_csv(\"not_found_movies.csv\", index=False)\n",
    "imdb_data.to_csv(\"imdb_data_found.csv\", index=False)\n",
    "                              \n",
    "\n"
   ]
  },
  {
   "cell_type": "code",
   "execution_count": 8,
   "metadata": {},
   "outputs": [
    {
     "data": {
      "text/html": [
       "<div>\n",
       "<style scoped>\n",
       "    .dataframe tbody tr th:only-of-type {\n",
       "        vertical-align: middle;\n",
       "    }\n",
       "\n",
       "    .dataframe tbody tr th {\n",
       "        vertical-align: top;\n",
       "    }\n",
       "\n",
       "    .dataframe thead th {\n",
       "        text-align: right;\n",
       "    }\n",
       "</style>\n",
       "<table border=\"1\" class=\"dataframe\">\n",
       "  <thead>\n",
       "    <tr style=\"text-align: right;\">\n",
       "      <th></th>\n",
       "      <th>movie_name</th>\n",
       "      <th>year</th>\n",
       "      <th>genre</th>\n",
       "    </tr>\n",
       "  </thead>\n",
       "  <tbody>\n",
       "    <tr>\n",
       "      <th>0</th>\n",
       "      <td>Andy Colby's Incredible Adventure</td>\n",
       "      <td>1988</td>\n",
       "      <td>Comedy</td>\n",
       "    </tr>\n",
       "    <tr>\n",
       "      <th>1</th>\n",
       "      <td>Dog Gone</td>\n",
       "      <td>2008</td>\n",
       "      <td>Comedy</td>\n",
       "    </tr>\n",
       "    <tr>\n",
       "      <th>2</th>\n",
       "      <td>Tiny Troubles</td>\n",
       "      <td>1939</td>\n",
       "      <td>Comedy</td>\n",
       "    </tr>\n",
       "    <tr>\n",
       "      <th>3</th>\n",
       "      <td>The Case of the Mukkinese Battle Horn</td>\n",
       "      <td>1956</td>\n",
       "      <td>Comedy</td>\n",
       "    </tr>\n",
       "    <tr>\n",
       "      <th>4</th>\n",
       "      <td>Byl jednou jeden polda</td>\n",
       "      <td>1995</td>\n",
       "      <td>Comedy</td>\n",
       "    </tr>\n",
       "  </tbody>\n",
       "</table>\n",
       "</div>"
      ],
      "text/plain": [
       "                              movie_name  year   genre\n",
       "0      Andy Colby's Incredible Adventure  1988  Comedy\n",
       "1                               Dog Gone  2008  Comedy\n",
       "2                          Tiny Troubles  1939  Comedy\n",
       "3  The Case of the Mukkinese Battle Horn  1956  Comedy\n",
       "4                 Byl jednou jeden polda  1995  Comedy"
      ]
     },
     "execution_count": 8,
     "metadata": {},
     "output_type": "execute_result"
    }
   ],
   "source": [
    "#not_found = pd.read_csv(\"not_found_movies.csv\")\n",
    "\n",
    "#not_found['year'] = not_found['year'].astype(int)\n",
    "#not_found.to_csv(\"not_found_movies.csv\", index=False)\n",
    "#not_found.head()"
   ]
  },
  {
   "cell_type": "code",
   "execution_count": 3,
   "metadata": {},
   "outputs": [],
   "source": [
    "#not_found = pd.read_csv(\"not_found_movies.csv\")\n",
    "#imdb_data = pd.read_csv(\"imdb_data_found.csv\")"
   ]
  },
  {
   "cell_type": "markdown",
   "metadata": {},
   "source": [
    "# Removing movies that were not found from the CMU dataset and filling it back up"
   ]
  },
  {
   "cell_type": "code",
   "execution_count": 4,
   "metadata": {},
   "outputs": [
    {
     "name": "stdout",
     "output_type": "stream",
     "text": [
      "genre\n",
      "Comedy    1306\n",
      "Name: count, dtype: int64\n"
     ]
    }
   ],
   "source": [
    "# Merge the dataframes on movie_name and year\n",
    "merged = pd.merge(cmu_data, not_found, on=['movie_name', 'year', 'genre'], how='left', indicator=True)\n",
    "\n",
    "# Filter out rows where movie_name and year match\n",
    "filtered_data = merged[merged['_merge'] == 'left_only'].drop(columns=['_merge'])\n",
    "\n",
    "# get the genres that were removed\n",
    "genres = not_found[\"genre\"].unique()\n",
    "\n",
    "# get the genres that were removed and the number of items in each genre\n",
    "genre_counts = not_found[\"genre\"].value_counts()\n",
    "\n",
    "print(genre_counts)\n",
    "\n",
    "\n",
    "\n",
    "\n",
    "# merged.shape, filtered_data.shape"
   ]
  },
  {
   "cell_type": "code",
   "execution_count": 5,
   "metadata": {},
   "outputs": [
    {
     "data": {
      "text/plain": [
       "((6000, 5), (31375, 5), (1500, 5), (1500, 5), (1500, 5), (1500, 5))"
      ]
     },
     "execution_count": 5,
     "metadata": {},
     "output_type": "execute_result"
    }
   ],
   "source": [
    "comedy_movies = filtered_data[filtered_data[\"genre\"].str.contains(\"Comedy\")]\n",
    "horror_movies = filtered_data[filtered_data[\"genre\"].str.contains(\"Horror\")]\n",
    "thriller_movies = filtered_data[filtered_data[\"genre\"].str.contains(\"Thriller\")]\n",
    "drama_movies = filtered_data[filtered_data[\"genre\"].str.contains(\"Drama\")]\n",
    "\n",
    "# add 1500 items to each genre\n",
    "# if the genre has less than 1500 items, add items from cmu_backups\n",
    "# if adding a comedy movie, make sure it has no horror, thriller or drama in the genre\n",
    "\n",
    "filtered_comedy = cmu_backups[cmu_backups['genre'].apply(lambda x: 'Comedy' in x and not any(genre in x for genre in ['Horror', 'Thriller', 'Drama']))]\n",
    "comedy_movies = pd.concat([comedy_movies, filtered_comedy])\n",
    "comedy_movies = comedy_movies.head(1500)\n",
    "\n",
    "filtered_horror = cmu_backups[cmu_backups['genre'].apply(lambda x: 'Horror' in x and not any(genre in x for genre in ['Comedy', 'Thriller', 'Drama']))]\n",
    "horror_movies = pd.concat([horror_movies, filtered_horror])\n",
    "horror_movies = horror_movies.head(1500)\n",
    "\n",
    "filtered_thriller = cmu_backups[cmu_backups['genre'].apply(lambda x: 'Thriller' in x and not any(genre in x for genre in ['Comedy', 'Horror', 'Drama']))]\n",
    "thriller_movies = pd.concat([thriller_movies, filtered_thriller])\n",
    "thriller_movies = thriller_movies.head(1500)\n",
    "\n",
    "filtered_drama = cmu_backups[cmu_backups['genre'].apply(lambda x: 'Drama' in x and not any(genre in x for genre in ['Comedy', 'Horror', 'Thriller']))]\n",
    "drama_movies = pd.concat([drama_movies, filtered_drama])\n",
    "drama_movies = drama_movies.head(1500)\n",
    "\n",
    "cmu_dataset = pd.concat([comedy_movies, horror_movies, thriller_movies, drama_movies])\n",
    "cmu_dataset.reset_index(drop=True, inplace=True)\n",
    "\n",
    "cmu_backups = cmu_backups[~cmu_backups.isin(cmu_dataset)].dropna()\n",
    "\n",
    "cmu_dataset.to_csv(\"cmu_dataset_v2.csv\", index=False)\n",
    "cmu_backups.to_csv(\"cmu_movies_backup.csv\", index=False)\n",
    "\n",
    "cmu_dataset.shape, cmu_backups.shape, comedy_movies.shape, horror_movies.shape, thriller_movies.shape, drama_movies.shape"
   ]
  }
 ],
 "metadata": {
  "kernelspec": {
   "display_name": "Python 3",
   "language": "python",
   "name": "python3"
  },
  "language_info": {
   "codemirror_mode": {
    "name": "ipython",
    "version": 3
   },
   "file_extension": ".py",
   "mimetype": "text/x-python",
   "name": "python",
   "nbconvert_exporter": "python",
   "pygments_lexer": "ipython3",
   "version": "3.11.5"
  }
 },
 "nbformat": 4,
 "nbformat_minor": 2
}
