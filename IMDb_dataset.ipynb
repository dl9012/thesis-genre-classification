{
 "cells": [
  {
   "cell_type": "markdown",
   "metadata": {},
   "source": [
    "# Preparing the IMDb dataset."
   ]
  },
  {
   "cell_type": "code",
   "execution_count": null,
   "metadata": {},
   "outputs": [],
   "source": [
    "import pandas as pd\n",
    "import requests\n",
    "import time\n",
    "\n",
    "api_key = 'YOUR_KEY'\n",
    "\n",
    "RANDOM_STATE = 1212"
   ]
  },
  {
   "cell_type": "code",
   "execution_count": null,
   "metadata": {},
   "outputs": [],
   "source": [
    "# This block can be run once to create the necessary csv files\n",
    "\n",
    "\"\"\" not_found = pd.DataFrame(columns=[\"movie_name\", \"year\", \"genre\", \"plot\"])\n",
    "imdb_data = pd.DataFrame(columns=[\"movie_name\", \"year\", \"genre\", \"plot\"])\n",
    "\n",
    "not_found.to_csv(\"not_found_final.csv\", index=False)\n",
    "imdb_data.to_csv(\"imdb_data_final.csv\", index=False) \"\"\""
   ]
  },
  {
   "cell_type": "code",
   "execution_count": null,
   "metadata": {},
   "outputs": [],
   "source": [
    "# This block makes API calls and save the data to csv files.\n",
    "# Code works but is written very poorly and can be optimized.\n",
    "# Remember to enter API-keys in the api_key variables.\n",
    "\n",
    "not_found = pd.read_csv(\"not_found_final.csv\")\n",
    "imdb_data = pd.read_csv(\"imdb_data_final.csv\")\n",
    "cmu_data = pd.read_csv(\"cmu_backup.csv\")\n",
    "\n",
    "for index, row in cmu_data.iterrows():\n",
    "    if len(imdb_data[imdb_data[\"genre\"] == row[\"genre\"]]) >= 1590:\n",
    "        continue\n",
    "\n",
    "    if row[\"movie_name\"] in not_found[\"movie_name\"].values and row[\"year\"] in not_found[\"year\"].values and row[\"genre\"] in not_found[\"genre\"].values:\n",
    "        continue\n",
    "    if row[\"movie_name\"] in imdb_data[\"movie_name\"].values and row[\"year\"] in imdb_data[\"year\"].values and row[\"genre\"] in imdb_data[\"genre\"].values:\n",
    "        continue\n",
    "\n",
    "    url = f\"http://www.omdbapi.com/?t={row['movie_name']}&y={row['year']}&plot=full&apikey={api_key}\"\n",
    "    response = requests.get(url)\n",
    "    data = response.json()\n",
    "    print(data[\"Response\"] + \" \" + row[\"movie_name\"] + \" \" + str(row[\"year\"]))\n",
    "\n",
    "    time.sleep(0.5)\n",
    "\n",
    "    if data[\"Response\"] == \"False\":\n",
    "        if data[\"Error\"] == \"Request limit reached!\":\n",
    "            print(data[\"Error\"])\n",
    "            break\n",
    "        if data[\"Error\"] == \"Movie not found!\":\n",
    "            url = f\"http://www.omdbapi.com/?t={row['movie_name']}&y={int(row['year']) - 1}&plot=full&apikey={api_key}\"            \n",
    "            response = requests.get(url)\n",
    "            data = response.json()\n",
    "            time.sleep(0.5)\n",
    "            if data[\"Response\"] == \"True\":\n",
    "                if data[\"Plot\"].count(\".\") >= 2:\n",
    "                    imdb_data.loc[len(imdb_data)] = [row['movie_name'], int(row['year']), row['genre'], data['Plot']]\n",
    "                else:\n",
    "                    not_found.loc[len(not_found)] = [row[\"movie_name\"], int(row[\"year\"]), row['genre'], data['Plot']]\n",
    "            else:\n",
    "                not_found.loc[len(not_found)] = [row[\"movie_name\"], int(row[\"year\"]), row['genre'], row['plot']]\n",
    "        else: \n",
    "            not_found.loc[len(not_found)] = [row[\"movie_name\"], int(row[\"year\"]), row['genre'], row['plot']]\n",
    "    else:\n",
    "        if data[\"Plot\"].count(\".\") >= 2:\n",
    "            imdb_data.loc[len(imdb_data)] = [row['movie_name'], int(row['year']), row['genre'], data['Plot']]\n",
    "        else:\n",
    "            not_found.loc[len(not_found)] = [row[\"movie_name\"], int(row[\"year\"]), row['genre'], data['Plot']]\n",
    "\n",
    "# Saving the data to csv files\n",
    "not_found.to_csv(\"not_found_final_Vx.csv\", index=False)\n",
    "imdb_data.to_csv(\"imdb_data_final_Vx.csv\", index=False)"
   ]
  }
 ],
 "metadata": {
  "kernelspec": {
   "display_name": "Python 3",
   "language": "python",
   "name": "python3"
  },
  "language_info": {
   "codemirror_mode": {
    "name": "ipython",
    "version": 3
   },
   "file_extension": ".py",
   "mimetype": "text/x-python",
   "name": "python",
   "nbconvert_exporter": "python",
   "pygments_lexer": "ipython3",
   "version": "3.11.5"
  }
 },
 "nbformat": 4,
 "nbformat_minor": 2
}
