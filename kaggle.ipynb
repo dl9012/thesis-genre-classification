{
 "cells": [
  {
   "cell_type": "code",
   "execution_count": 1,
   "metadata": {},
   "outputs": [],
   "source": [
    "import pandas as pd\n",
    "import numpy as np\n",
    "import nltk\n",
    "from nltk.corpus import stopwords\n",
    "from nltk.stem import WordNetLemmatizer\n",
    "from sklearn.preprocessing import MultiLabelBinarizer\n",
    "from sklearn.model_selection import train_test_split\n",
    "from tensorflow.keras.preprocessing.text import Tokenizer\n",
    "from tensorflow.keras.preprocessing.sequence import pad_sequences\n",
    "from gensim.models import Word2Vec"
   ]
  },
  {
   "cell_type": "code",
   "execution_count": 2,
   "metadata": {},
   "outputs": [
    {
     "name": "stderr",
     "output_type": "stream",
     "text": [
      "[nltk_data] Downloading package stopwords to\n",
      "[nltk_data]     C:\\Users\\David\\AppData\\Roaming\\nltk_data...\n",
      "[nltk_data]   Package stopwords is already up-to-date!\n",
      "[nltk_data] Downloading package wordnet to\n",
      "[nltk_data]     C:\\Users\\David\\AppData\\Roaming\\nltk_data...\n",
      "[nltk_data]   Package wordnet is already up-to-date!\n"
     ]
    }
   ],
   "source": [
    "# Load the dataset\n",
    "data = pd.read_csv('cmu_dataset_prepared.csv')\n",
    "\n",
    "# Preprocess the text\n",
    "nltk.download('stopwords')\n",
    "nltk.download('wordnet')\n",
    "stop_words = set(stopwords.words('english'))\n",
    "lemmatizer = WordNetLemmatizer()\n",
    "\n",
    "def preprocess_text(text):\n",
    "    # Tokenize, remove stopwords, and lemmatize\n",
    "    tokens = nltk.word_tokenize(text.lower())\n",
    "    filtered_tokens = [lemmatizer.lemmatize(token) for token in tokens if token not in stop_words and token.isalnum()]\n",
    "    return ' '.join(filtered_tokens)\n",
    "\n",
    "data['processed_plot'] = data['plot'].apply(preprocess_text)\n",
    "\n",
    "#WORD2VEC\n",
    "# Train Word2Vec model\n",
    "from nltk.tokenize import word_tokenize\n",
    "\n",
    "# Tokenize each plot into a list of words\n",
    "tokenized_plots = [word_tokenize(plot) for plot in data['processed_plot']]\n",
    "\n",
    "# Train the Word2Vec model on the tokenized plots\n",
    "word2vec_model = Word2Vec(sentences=tokenized_plots, vector_size=100, window=5)\n",
    "\n",
    "# Preprocess the genres\n",
    "data['genres'] = data['genre'].apply(lambda x: x.split('|'))\n",
    "mlb = MultiLabelBinarizer()\n",
    "genres_encoded = mlb.fit_transform(data['genres'])"
   ]
  },
  {
   "cell_type": "code",
   "execution_count": 3,
   "metadata": {},
   "outputs": [
    {
     "data": {
      "text/plain": [
       "[('smile', 0.9594844579696655),\n",
       " ('reflection', 0.955476701259613),\n",
       " ('whisper', 0.9546499252319336),\n",
       " ('shake', 0.9496319890022278),\n",
       " ('cyrus', 0.9484403729438782),\n",
       " ('garfield', 0.94843989610672),\n",
       " ('bell', 0.9467282891273499),\n",
       " ('pooh', 0.9463261365890503),\n",
       " ('porky', 0.9455065727233887),\n",
       " ('there', 0.9441907405853271)]"
      ]
     },
     "execution_count": 3,
     "metadata": {},
     "output_type": "execute_result"
    }
   ],
   "source": [
    "# similar words to 'love'\n",
    "word2vec_model.wv.most_similar('laugh')"
   ]
  },
  {
   "cell_type": "code",
   "execution_count": 4,
   "metadata": {},
   "outputs": [],
   "source": [
    "# Load the pre-trained GloVe embeddings\n",
    "\"\"\"embeddings_index = {}\n",
    "with open('glove.6B.100d.txt', encoding='utf-8') as f:\n",
    "    for line in f:\n",
    "        values = line.split()\n",
    "        word = values[0]\n",
    "        coefs = np.asarray(values[1:], dtype='float32')\n",
    "        embeddings_index[word] = coefs\n",
    "\"\"\"\n",
    "# Tokenize and pad the text sequences\n",
    "tokenizer = Tokenizer()\n",
    "tokenizer.fit_on_texts(data['processed_plot'])\n",
    "sequences = tokenizer.texts_to_sequences(data['processed_plot'])\n",
    "word_index = tokenizer.word_index\n",
    "padded_sequences = pad_sequences(sequences, maxlen=300)\n",
    "\n",
    "# Create the embedding matrix\n",
    "embedding_matrix = np.zeros((len(word_index) + 1, word2vec_model.vector_size))\n",
    "for word, i in word_index.items():\n",
    "    if word in word2vec_model.wv:\n",
    "        embedding_matrix[i] = word2vec_model.wv[word]"
   ]
  },
  {
   "cell_type": "code",
   "execution_count": 5,
   "metadata": {},
   "outputs": [
    {
     "name": "stdout",
     "output_type": "stream",
     "text": [
      "Epoch 1/10\n",
      "\u001b[1m75/75\u001b[0m \u001b[32m━━━━━━━━━━━━━━━━━━━━\u001b[0m\u001b[37m\u001b[0m \u001b[1m23s\u001b[0m 280ms/step - accuracy: 0.3230 - loss: 0.5694 - val_accuracy: 0.4283 - val_loss: 0.5075\n",
      "Epoch 2/10\n",
      "\u001b[1m75/75\u001b[0m \u001b[32m━━━━━━━━━━━━━━━━━━━━\u001b[0m\u001b[37m\u001b[0m \u001b[1m20s\u001b[0m 268ms/step - accuracy: 0.4074 - loss: 0.5229 - val_accuracy: 0.4425 - val_loss: 0.5130\n",
      "Epoch 3/10\n",
      "\u001b[1m75/75\u001b[0m \u001b[32m━━━━━━━━━━━━━━━━━━━━\u001b[0m\u001b[37m\u001b[0m \u001b[1m20s\u001b[0m 272ms/step - accuracy: 0.4412 - loss: 0.5097 - val_accuracy: 0.4758 - val_loss: 0.4887\n",
      "Epoch 4/10\n",
      "\u001b[1m75/75\u001b[0m \u001b[32m━━━━━━━━━━━━━━━━━━━━\u001b[0m\u001b[37m\u001b[0m \u001b[1m20s\u001b[0m 263ms/step - accuracy: 0.4564 - loss: 0.4991 - val_accuracy: 0.5000 - val_loss: 0.4796\n",
      "Epoch 5/10\n",
      "\u001b[1m75/75\u001b[0m \u001b[32m━━━━━━━━━━━━━━━━━━━━\u001b[0m\u001b[37m\u001b[0m \u001b[1m20s\u001b[0m 266ms/step - accuracy: 0.4826 - loss: 0.4873 - val_accuracy: 0.5000 - val_loss: 0.4812\n",
      "Epoch 6/10\n",
      "\u001b[1m75/75\u001b[0m \u001b[32m━━━━━━━━━━━━━━━━━━━━\u001b[0m\u001b[37m\u001b[0m \u001b[1m19s\u001b[0m 254ms/step - accuracy: 0.5003 - loss: 0.4828 - val_accuracy: 0.5250 - val_loss: 0.4675\n",
      "Epoch 7/10\n",
      "\u001b[1m75/75\u001b[0m \u001b[32m━━━━━━━━━━━━━━━━━━━━\u001b[0m\u001b[37m\u001b[0m \u001b[1m19s\u001b[0m 252ms/step - accuracy: 0.5311 - loss: 0.4691 - val_accuracy: 0.5550 - val_loss: 0.4476\n",
      "Epoch 8/10\n",
      "\u001b[1m75/75\u001b[0m \u001b[32m━━━━━━━━━━━━━━━━━━━━\u001b[0m\u001b[37m\u001b[0m \u001b[1m19s\u001b[0m 248ms/step - accuracy: 0.5506 - loss: 0.4547 - val_accuracy: 0.5467 - val_loss: 0.4503\n",
      "Epoch 9/10\n",
      "\u001b[1m75/75\u001b[0m \u001b[32m━━━━━━━━━━━━━━━━━━━━\u001b[0m\u001b[37m\u001b[0m \u001b[1m19s\u001b[0m 249ms/step - accuracy: 0.5273 - loss: 0.4520 - val_accuracy: 0.5600 - val_loss: 0.4352\n",
      "Epoch 10/10\n",
      "\u001b[1m75/75\u001b[0m \u001b[32m━━━━━━━━━━━━━━━━━━━━\u001b[0m\u001b[37m\u001b[0m \u001b[1m19s\u001b[0m 251ms/step - accuracy: 0.5631 - loss: 0.4433 - val_accuracy: 0.5950 - val_loss: 0.4254\n"
     ]
    },
    {
     "data": {
      "text/plain": [
       "<keras.src.callbacks.history.History at 0x2a5717c39d0>"
      ]
     },
     "execution_count": 5,
     "metadata": {},
     "output_type": "execute_result"
    }
   ],
   "source": [
    "from tensorflow.keras.models import Sequential\n",
    "from tensorflow.keras.layers import Embedding, LSTM, Dense\n",
    "\n",
    "# Define the LSTM model\n",
    "embedding_layer = Embedding(48699, 100, trainable=False)\n",
    "embedding_layer.build((None,))  # if you don't do this, the next step won't work\n",
    "embedding_layer.set_weights([embedding_matrix])\n",
    "\n",
    "model = Sequential()\n",
    "model.add(embedding_layer)\n",
    "model.add(LSTM(128, dropout=0.2, recurrent_dropout=0.2))\n",
    "model.add(Dense(len(mlb.classes_), activation='sigmoid'))\n",
    "\n",
    "# Compile the model\n",
    "model.compile(loss='binary_crossentropy', optimizer='adam', metrics=['accuracy'])\n",
    "\n",
    "# Split the data into training and testing sets\n",
    "X_train, X_test, y_train, y_test = train_test_split(padded_sequences, genres_encoded, test_size=0.2, random_state=42)\n",
    "\n",
    "# Train the model\n",
    "model.fit(X_train, y_train, batch_size=64, epochs=10, validation_data=(X_test, y_test))"
   ]
  },
  {
   "cell_type": "code",
   "execution_count": 6,
   "metadata": {},
   "outputs": [
    {
     "name": "stdout",
     "output_type": "stream",
     "text": [
      "\u001b[1m38/38\u001b[0m \u001b[32m━━━━━━━━━━━━━━━━━━━━\u001b[0m\u001b[37m\u001b[0m \u001b[1m3s\u001b[0m 71ms/step\n",
      "Accuracy: 0.43833333333333335\n",
      "Precision: 0.6666666666666666\n",
      "Recall: 0.44333333333333336\n",
      "F1-score: 0.5325325325325326\n"
     ]
    }
   ],
   "source": [
    "from sklearn.metrics import accuracy_score, precision_score, recall_score, f1_score\n",
    "\n",
    "# Make predictions on the test set\n",
    "y_pred = model.predict(X_test)\n",
    "y_pred_classes = (y_pred > 0.5).astype(int)\n",
    "\n",
    "# Calculate evaluation metrics\n",
    "accuracy = accuracy_score(y_test, y_pred_classes)\n",
    "precision = precision_score(y_test, y_pred_classes, average='micro')\n",
    "recall = recall_score(y_test, y_pred_classes, average='micro')\n",
    "f1 = f1_score(y_test, y_pred_classes, average='micro')\n",
    "\n",
    "print(f'Accuracy: {accuracy}')\n",
    "print(f'Precision: {precision}')\n",
    "print(f'Recall: {recall}')\n",
    "print(f'F1-score: {f1}')"
   ]
  },
  {
   "cell_type": "code",
   "execution_count": 7,
   "metadata": {},
   "outputs": [
    {
     "name": "stdout",
     "output_type": "stream",
     "text": [
      "Genre: Comedy\n",
      "Accuracy: 0.8025\n",
      "Precision: 0.7030567685589519\n",
      "Recall: 0.48787878787878786\n",
      "F1-score: 0.5760286225402504\n",
      "\n",
      "Genre: Drama\n",
      "Accuracy: 0.76\n",
      "Precision: 0.5277777777777778\n",
      "Recall: 0.3187919463087248\n",
      "F1-score: 0.39748953974895396\n",
      "\n",
      "Genre: Horror\n",
      "Accuracy: 0.8441666666666666\n",
      "Precision: 0.7068965517241379\n",
      "Recall: 0.5795053003533569\n",
      "F1-score: 0.6368932038834951\n",
      "\n",
      "Genre: Thriller\n",
      "Accuracy: 0.815\n",
      "Precision: 0.7133757961783439\n",
      "Recall: 0.3875432525951557\n",
      "F1-score: 0.5022421524663677\n",
      "\n"
     ]
    }
   ],
   "source": [
    "from sklearn.metrics import accuracy_score, precision_score, recall_score, f1_score\n",
    "\n",
    "# Calculate evaluation metrics for each genre\n",
    "genre_scores = {}\n",
    "for i, genre in enumerate(mlb.classes_):\n",
    "    genre_accuracy = accuracy_score(y_test[:, i], y_pred_classes[:, i])\n",
    "    genre_precision = precision_score(y_test[:, i], y_pred_classes[:, i])\n",
    "    genre_recall = recall_score(y_test[:, i], y_pred_classes[:, i])\n",
    "    genre_f1 = f1_score(y_test[:, i], y_pred_classes[:, i])\n",
    "    \n",
    "    genre_scores[genre] = {'Accuracy': genre_accuracy,\n",
    "                           'Precision': genre_precision,\n",
    "                           'Recall': genre_recall,\n",
    "                           'F1-score': genre_f1}\n",
    "\n",
    "# Print scores for each genre\n",
    "for genre, scores in genre_scores.items():\n",
    "    print(f'Genre: {genre}')\n",
    "    print(f'Accuracy: {scores[\"Accuracy\"]}')\n",
    "    print(f'Precision: {scores[\"Precision\"]}')\n",
    "    print(f'Recall: {scores[\"Recall\"]}')\n",
    "    print(f'F1-score: {scores[\"F1-score\"]}')\n",
    "    print()\n"
   ]
  },
  {
   "cell_type": "code",
   "execution_count": 8,
   "metadata": {},
   "outputs": [
    {
     "name": "stdout",
     "output_type": "stream",
     "text": [
      "Predicted Comedy: 229 times\n",
      "Predicted Drama: 180 times\n",
      "Predicted Horror: 232 times\n",
      "Predicted Thriller: 157 times\n"
     ]
    }
   ],
   "source": [
    "# Count the number of times each genre is predicted\n",
    "genre_counts = {}\n",
    "for i, genre in enumerate(mlb.classes_):\n",
    "    genre_count = np.sum(y_pred_classes[:, i])\n",
    "    genre_counts[genre] = genre_count\n",
    "\n",
    "# Print the counts for each genre\n",
    "for genre, count in genre_counts.items():\n",
    "    print(f\"Predicted {genre}: {count} times\")\n"
   ]
  }
 ],
 "metadata": {
  "kernelspec": {
   "display_name": "Python 3",
   "language": "python",
   "name": "python3"
  },
  "language_info": {
   "codemirror_mode": {
    "name": "ipython",
    "version": 3
   },
   "file_extension": ".py",
   "mimetype": "text/x-python",
   "name": "python",
   "nbconvert_exporter": "python",
   "pygments_lexer": "ipython3",
   "version": "3.11.5"
  },
  "orig_nbformat": 4
 },
 "nbformat": 4,
 "nbformat_minor": 2
}
