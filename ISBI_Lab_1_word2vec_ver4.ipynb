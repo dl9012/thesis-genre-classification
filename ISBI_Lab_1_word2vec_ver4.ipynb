{
 "cells": [
  {
   "cell_type": "markdown",
   "id": "hispanic-weight",
   "metadata": {
    "id": "hispanic-weight"
   },
   "source": [
    "## ISBI Laboration 1: Introduction to Word2Vec with Python\n",
    "\n",
    "Inspired by ChatGPT, corrected, updated and extended by Hercules Dalianis, Nov 2023\n",
    "\n",
    "Help with dataframes and visualisation by Laleh Davoodi.\n",
    "\n",
    "### Objective:\n",
    "\n",
    "To understand the concept of Word2Vec.\n",
    "To learn how to train a Word2Vec model using Python.\n",
    "To explore the vector representations of words.\n",
    "\n",
    "### Data:\n",
    "Reuters news corpus from 1996-1997\n",
    "\n",
    "### Prerequisites:\n",
    "Jupyter Notebook, if it is not installed, you can use Google Colab instead.\n",
    "\n",
    "### Setup:\n",
    "If you haven't already, install Jupyter Notebook or open Google Colab.\n",
    "\n",
    "### Introduction:\n",
    "Word2Vec is a popular technique for word embeddings, which represent words as dense vectors in a continuous space. These vectors capture semantic relationships between words, allowing us to perform various NLP tasks. In this lab, we will learn the basics of Word2Vec.\n",
    "\n",
    "Start Jupiter notebook or Google Colab. In Google Colab you must upload your this file."
   ]
  },
  {
   "cell_type": "code",
   "execution_count": 1,
   "id": "precious-freight",
   "metadata": {
    "colab": {
     "base_uri": "https://localhost:8080/"
    },
    "id": "thick-wiring",
    "outputId": "05fd195d-7a32-4917-a6bf-50e7f3b054df",
    "scrolled": true
   },
   "outputs": [
    {
     "name": "stderr",
     "output_type": "stream",
     "text": [
      "[nltk_data] Downloading package punkt to\n",
      "[nltk_data]     C:\\Users\\David\\AppData\\Roaming\\nltk_data...\n",
      "[nltk_data]   Package punkt is already up-to-date!\n"
     ]
    },
    {
     "data": {
      "text/plain": [
       "True"
      ]
     },
     "execution_count": 1,
     "metadata": {},
     "output_type": "execute_result"
    }
   ],
   "source": [
    "# Import necessary libraries\n",
    "from gensim.models import Word2Vec\n",
    "import nltk\n",
    "from nltk.corpus import reuters\n",
    "nltk.download('punkt')"
   ]
  },
  {
   "cell_type": "markdown",
   "id": "heated-jacob",
   "metadata": {},
   "source": [
    "Exercise 1: Loading and Preprocessing Text Data"
   ]
  },
  {
   "cell_type": "code",
   "execution_count": 2,
   "id": "thick-wiring",
   "metadata": {
    "colab": {
     "base_uri": "https://localhost:8080/"
    },
    "id": "thick-wiring",
    "outputId": "05fd195d-7a32-4917-a6bf-50e7f3b054df"
   },
   "outputs": [
    {
     "name": "stderr",
     "output_type": "stream",
     "text": [
      "[nltk_data] Downloading package reuters to\n",
      "[nltk_data]     C:\\Users\\David\\AppData\\Roaming\\nltk_data...\n",
      "[nltk_data]   Package reuters is already up-to-date!\n"
     ]
    },
    {
     "data": {
      "text/plain": [
       "True"
      ]
     },
     "execution_count": 2,
     "metadata": {},
     "output_type": "execute_result"
    }
   ],
   "source": [
    "# Download and install new corpus Reuters\n",
    "nltk.download('reuters')\n",
    "# Observe the Reuters news corpus is from 1996-1997"
   ]
  },
  {
   "cell_type": "code",
   "execution_count": 3,
   "id": "living-holder",
   "metadata": {
    "colab": {
     "base_uri": "https://localhost:8080/"
    },
    "id": "living-holder",
    "outputId": "1a79d9f2-7a38-4bc4-87f3-7d5e6564fb43"
   },
   "outputs": [
    {
     "data": {
      "text/plain": [
       "1720901"
      ]
     },
     "execution_count": 3,
     "metadata": {},
     "output_type": "execute_result"
    }
   ],
   "source": [
    "# Count words of corpus using the internal NLTK format.\n",
    "words = nltk.corpus.reuters.words()\n",
    "\n",
    "# Calculate length of words list and print it\n",
    "len(words)"
   ]
  },
  {
   "cell_type": "code",
   "execution_count": 4,
   "id": "western-nickname",
   "metadata": {
    "colab": {
     "base_uri": "https://localhost:8080/"
    },
    "id": "western-nickname",
    "outputId": "4bf01286-b6e1-4898-cc01-b1842cd66cd0"
   },
   "outputs": [
    {
     "data": {
      "text/plain": [
       "54716"
      ]
     },
     "execution_count": 4,
     "metadata": {},
     "output_type": "execute_result"
    }
   ],
   "source": [
    "# Tokenize the Reuters corpus. \n",
    "# Create lists of tokenised sentences, which is the input form of word2vec \n",
    "sentences = reuters.sents()\n",
    "\n",
    "len(sentences)"
   ]
  },
  {
   "cell_type": "code",
   "execution_count": 5,
   "id": "ranging-denver",
   "metadata": {
    "colab": {
     "base_uri": "https://localhost:8080/"
    },
    "id": "ranging-denver",
    "outputId": "07d62f45-9e81-4fbe-c21d-0482e15056a0"
   },
   "outputs": [
    {
     "name": "stdout",
     "output_type": "stream",
     "text": [
      "['ASIAN', 'EXPORTERS', 'FEAR', 'DAMAGE', 'FROM', 'U', '.', 'S', '.-', 'JAPAN', 'RIFT', 'Mounting', 'trade', 'friction', 'between', 'the', 'U', '.', 'S', '.', 'And', 'Japan', 'has', 'raised', 'fears', 'among', 'many', 'of', 'Asia', \"'\", 's', 'exporting', 'nations', 'that', 'the', 'row', 'could', 'inflict', 'far', '-', 'reaching', 'economic', 'damage', ',', 'businessmen', 'and', 'officials', 'said', '.']\n",
      "['They', 'told', 'Reuter', 'correspondents', 'in', 'Asian', 'capitals', 'a', 'U', '.', 'S', '.', 'Move', 'against', 'Japan', 'might', 'boost', 'protectionist', 'sentiment', 'in', 'the', 'U', '.', 'S', '.', 'And', 'lead', 'to', 'curbs', 'on', 'American', 'imports', 'of', 'their', 'products', '.']\n",
      "['But', 'some', 'exporters', 'said', 'that', 'while', 'the', 'conflict', 'would', 'hurt', 'them', 'in', 'the', 'long', '-', 'run', ',', 'in', 'the', 'short', '-', 'term', 'Tokyo', \"'\", 's', 'loss', 'might', 'be', 'their', 'gain', '.']\n"
     ]
    }
   ],
   "source": [
    "# Print the first three sentences, the first list starts with 0.\n",
    "print(sentences[0])\n",
    "print(sentences[1])\n",
    "print(sentences[2])"
   ]
  },
  {
   "cell_type": "markdown",
   "id": "turkish-employee",
   "metadata": {},
   "source": [
    "#### Question 1: What is the purpose of tokenizing sentences into words?"
   ]
  },
  {
   "cell_type": "markdown",
   "id": "revolutionary-rover",
   "metadata": {},
   "source": [
    "Exercise 2: Training a Word2Vec Model"
   ]
  },
  {
   "cell_type": "code",
   "execution_count": 6,
   "id": "x0p71sR3fWuR",
   "metadata": {
    "id": "x0p71sR3fWuR"
   },
   "outputs": [],
   "source": [
    "# Train a Word2Vec model with Reuters corpus\n",
    "model = Word2Vec(sentences, vector_size=100, window=5, min_count=1, sg=0)"
   ]
  },
  {
   "cell_type": "markdown",
   "id": "distinct-character",
   "metadata": {},
   "source": [
    "Now we have built a word2vec model of the Reuters corpus"
   ]
  },
  {
   "cell_type": "code",
   "execution_count": 7,
   "id": "1darR4rZfgYO",
   "metadata": {
    "colab": {
     "base_uri": "https://localhost:8080/"
    },
    "id": "1darR4rZfgYO",
    "outputId": "f736d17f-6a17-4af0-d27f-ffa7dc2d028b"
   },
   "outputs": [
    {
     "name": "stdout",
     "output_type": "stream",
     "text": [
      "[ 1.1274002e+00  3.3547398e-01 -2.6488962e+00  1.0882885e+00\n",
      " -2.2852233e-01  2.1810293e+00  1.5596350e+00  5.3422970e-01\n",
      "  4.8847660e-01 -3.3951962e-01  5.9733278e-01  5.0753248e-01\n",
      "  2.7595784e-03  4.0171045e-01 -8.5446984e-01 -6.3429856e-01\n",
      "  6.7104977e-01  3.1843475e-01 -3.4750912e-01  4.6754843e-01\n",
      " -6.4655066e-01 -2.0288999e+00 -1.2504990e-01 -1.4670138e+00\n",
      " -3.2082546e-01 -3.1014001e-01  1.5543903e+00  4.4491401e-01\n",
      " -5.1107454e-01  4.0817320e-01 -2.7206286e-03 -2.8651816e-01\n",
      "  3.6445722e-01 -5.1649845e-01 -6.0204089e-01  1.0714074e+00\n",
      " -1.2225339e+00 -1.3258578e-01 -7.3834115e-01 -4.2011398e-01\n",
      "  8.3323622e-01  1.0994993e+00  1.7861873e-01 -1.4300352e+00\n",
      "  2.7773390e+00  4.6924430e-01 -2.4053396e-01 -5.6741583e-01\n",
      "  1.8283899e-01 -8.3035010e-01  1.5184389e+00  1.5438917e-01\n",
      " -3.2820508e-01 -2.4104278e-01 -6.2988788e-01  3.0780223e-01\n",
      " -9.4283089e-02  5.6192529e-01  7.0515126e-01 -1.5912230e-01\n",
      "  1.5541530e+00 -1.4448928e+00  4.8916999e-01 -8.9810944e-01\n",
      " -5.1414216e-01 -1.4465253e+00 -3.2489312e-01 -5.5265196e-02\n",
      " -2.1960344e+00 -6.9108808e-01 -1.7522838e+00 -1.6389103e+00\n",
      "  8.9746797e-01  1.1465180e+00 -7.5628901e-01  6.9387197e-01\n",
      "  2.1513863e-01  1.4368740e+00  9.1174942e-01  1.0917376e+00\n",
      " -7.6973611e-01 -2.2238089e-01 -1.0884327e+00  9.9447215e-01\n",
      " -2.8708658e-01 -1.4625940e+00 -4.0485010e-01 -1.1587099e-01\n",
      "  7.6081806e-01 -7.8261769e-01  1.0862968e-01  6.2869209e-01\n",
      " -3.9072175e-02  3.8492996e-01  3.2985562e-01 -6.2479609e-01\n",
      "  2.4168837e+00  1.1774814e+00  2.1564144e-01 -8.7346935e-01]\n"
     ]
    }
   ],
   "source": [
    "# Find vector for a word\n",
    "vector = model.wv['economy']\n",
    "\n",
    "# Print the vector for the word\n",
    "print(vector)"
   ]
  },
  {
   "cell_type": "markdown",
   "id": "incident-citizen",
   "metadata": {},
   "source": [
    "#### Question 2: What does these numbers above mean? How are they correlated to \"vector_size\". What does the parameter \"vector_size\" do when training a Word2Vec model? What does \"window\" represent?"
   ]
  },
  {
   "cell_type": "code",
   "execution_count": 8,
   "id": "Qz4nQUdQfnXF",
   "metadata": {
    "colab": {
     "base_uri": "https://localhost:8080/"
    },
    "id": "Qz4nQUdQfnXF",
    "outputId": "86b0dfac-8885-4a8a-d383-e332cb0a2baa"
   },
   "outputs": [
    {
     "name": "stdout",
     "output_type": "stream",
     "text": [
      "[('economic', 0.8603454232215881), ('strength', 0.8466590046882629), ('situation', 0.8440170288085938), ('policies', 0.8293824791908264), ('policy', 0.8153066039085388), ('monetary', 0.8127627968788147), ('political', 0.8065685629844666), ('aggregates', 0.8055894374847412), ('country', 0.7938932776451111), ('growing', 0.7895318865776062)]\n"
     ]
    }
   ],
   "source": [
    "# Find words most similar to a given word\n",
    "# Just replace the word 'economy' with an other word and rerun the cell.\n",
    "similar_words = model.wv.most_similar('economy')\n",
    "\n",
    "print(similar_words)"
   ]
  },
  {
   "cell_type": "markdown",
   "id": "flexible-execution",
   "metadata": {
    "id": "flexible-execution"
   },
   "source": [
    "#### Question 3: How close semantically to 'economy' are the similar words of word2vec? \n",
    "Try some other words. How well does the word2vec work for them? \n",
    "\n",
    "#### Question 4: What does the number on the right side word mean? If the number is \"1\" what does that mean? (Clue think about angle between vectors)"
   ]
  },
  {
   "cell_type": "markdown",
   "id": "printable-champagne",
   "metadata": {
    "id": "printable-champagne"
   },
   "source": [
    "Exercise 3: Exploring Word Similarity\n"
   ]
  },
  {
   "cell_type": "code",
   "execution_count": 9,
   "id": "particular-colorado",
   "metadata": {
    "id": "particular-colorado"
   },
   "outputs": [
    {
     "name": "stdout",
     "output_type": "stream",
     "text": [
      "[('economic', 0.8603454232215881), ('strength', 0.8466590046882629), ('situation', 0.8440170288085938), ('policies', 0.8293824791908264), ('policy', 0.8153066039085388), ('monetary', 0.8127627968788147), ('political', 0.8065685629844666), ('aggregates', 0.8055894374847412), ('country', 0.7938932776451111), ('growing', 0.7895318865776062)]\n"
     ]
    }
   ],
   "source": [
    "# Find words most similar to a given word\n",
    "# Some more word to test, just replace 'economy' with one of them and rerun the cell.\n",
    "# Europe, oil, export, economy, business, agricultural, Russia, China, president, Queen, unemployment, computer\n",
    "similar_words = model.wv.most_similar('economy')\n",
    "\n",
    "print(similar_words)"
   ]
  },
  {
   "cell_type": "markdown",
   "id": "olive-charm",
   "metadata": {
    "id": "olive-charm"
   },
   "source": [
    "#### Question 5: What do you see in the example above with similarity to 'Economy'. Are there any strange similarities? Please discuss.\n",
    "\n",
    "Other impressions?"
   ]
  },
  {
   "cell_type": "markdown",
   "id": "economic-intermediate",
   "metadata": {
    "id": "economic-intermediate"
   },
   "source": [
    "Exercise 4: Exploring the preprocessing of the input data.\n",
    "1) Removing noise from the corpus such as interpunctions, etc\n",
    "\n",
    "2) Make the text in lower casing\n",
    "\n",
    "3) Lemmatise the text\n",
    "\n",
    "Here we will use pandas dataframe for faster preprocessing. We tried to use listprocessing, but it was too slow and crashed in the end, in total 57 000 sentences. \n",
    "The dataframes gives 10 780 rows (with more than on sentence per row)."
   ]
  },
  {
   "cell_type": "code",
   "execution_count": 10,
   "id": "ordinary-forge",
   "metadata": {},
   "outputs": [],
   "source": [
    "# Getting file ids\n",
    "fileids = reuters.fileids()"
   ]
  },
  {
   "cell_type": "code",
   "execution_count": 11,
   "id": "adapted-oxygen",
   "metadata": {},
   "outputs": [],
   "source": [
    "# Import pandas library\n",
    "import pandas as pd\n",
    "# Load data into pandas dataframe\n",
    "all_reuters_words = []\n",
    "for file_id in fileids:\n",
    "    file_words = reuters.words(file_id)\n",
    "    output = \" \".join(file_words)\n",
    "    all_reuters_words.append(output)\n",
    "data = {\"sentence\": all_reuters_words}\n",
    "df = pd.DataFrame.from_dict(data)\n",
    "# make an extra duplicate column\n",
    "df['original_sentence'] = df['sentence']\n"
   ]
  },
  {
   "cell_type": "code",
   "execution_count": 12,
   "id": "nervous-phrase",
   "metadata": {},
   "outputs": [
    {
     "data": {
      "text/plain": [
       "(10788, 2)"
      ]
     },
     "execution_count": 12,
     "metadata": {},
     "output_type": "execute_result"
    }
   ],
   "source": [
    "df.shape"
   ]
  },
  {
   "cell_type": "code",
   "execution_count": 13,
   "id": "adjacent-riding",
   "metadata": {},
   "outputs": [
    {
     "data": {
      "text/html": [
       "<div>\n",
       "<style scoped>\n",
       "    .dataframe tbody tr th:only-of-type {\n",
       "        vertical-align: middle;\n",
       "    }\n",
       "\n",
       "    .dataframe tbody tr th {\n",
       "        vertical-align: top;\n",
       "    }\n",
       "\n",
       "    .dataframe thead th {\n",
       "        text-align: right;\n",
       "    }\n",
       "</style>\n",
       "<table border=\"1\" class=\"dataframe\">\n",
       "  <thead>\n",
       "    <tr style=\"text-align: right;\">\n",
       "      <th></th>\n",
       "      <th>sentence</th>\n",
       "      <th>original_sentence</th>\n",
       "    </tr>\n",
       "  </thead>\n",
       "  <tbody>\n",
       "    <tr>\n",
       "      <th>0</th>\n",
       "      <td>ASIAN EXPORTERS FEAR DAMAGE FROM U . S .- JAPA...</td>\n",
       "      <td>ASIAN EXPORTERS FEAR DAMAGE FROM U . S .- JAPA...</td>\n",
       "    </tr>\n",
       "    <tr>\n",
       "      <th>1</th>\n",
       "      <td>CHINA DAILY SAYS VERMIN EAT 7 - 12 PCT GRAIN S...</td>\n",
       "      <td>CHINA DAILY SAYS VERMIN EAT 7 - 12 PCT GRAIN S...</td>\n",
       "    </tr>\n",
       "    <tr>\n",
       "      <th>2</th>\n",
       "      <td>JAPAN TO REVISE LONG - TERM ENERGY DEMAND DOWN...</td>\n",
       "      <td>JAPAN TO REVISE LONG - TERM ENERGY DEMAND DOWN...</td>\n",
       "    </tr>\n",
       "    <tr>\n",
       "      <th>3</th>\n",
       "      <td>THAI TRADE DEFICIT WIDENS IN FIRST QUARTER Tha...</td>\n",
       "      <td>THAI TRADE DEFICIT WIDENS IN FIRST QUARTER Tha...</td>\n",
       "    </tr>\n",
       "    <tr>\n",
       "      <th>4</th>\n",
       "      <td>INDONESIA SEES CPO PRICE RISING SHARPLY Indone...</td>\n",
       "      <td>INDONESIA SEES CPO PRICE RISING SHARPLY Indone...</td>\n",
       "    </tr>\n",
       "    <tr>\n",
       "      <th>5</th>\n",
       "      <td>AUSTRALIAN FOREIGN SHIP BAN ENDS BUT NSW PORTS...</td>\n",
       "      <td>AUSTRALIAN FOREIGN SHIP BAN ENDS BUT NSW PORTS...</td>\n",
       "    </tr>\n",
       "    <tr>\n",
       "      <th>6</th>\n",
       "      <td>INDONESIAN COMMODITY EXCHANGE MAY EXPAND The I...</td>\n",
       "      <td>INDONESIAN COMMODITY EXCHANGE MAY EXPAND The I...</td>\n",
       "    </tr>\n",
       "    <tr>\n",
       "      <th>7</th>\n",
       "      <td>SRI LANKA GETS USDA APPROVAL FOR WHEAT PRICE F...</td>\n",
       "      <td>SRI LANKA GETS USDA APPROVAL FOR WHEAT PRICE F...</td>\n",
       "    </tr>\n",
       "    <tr>\n",
       "      <th>8</th>\n",
       "      <td>WESTERN MINING TO OPEN NEW GOLD MINE IN AUSTRA...</td>\n",
       "      <td>WESTERN MINING TO OPEN NEW GOLD MINE IN AUSTRA...</td>\n",
       "    </tr>\n",
       "    <tr>\n",
       "      <th>9</th>\n",
       "      <td>SUMITOMO BANK AIMS AT QUICK RECOVERY FROM MERG...</td>\n",
       "      <td>SUMITOMO BANK AIMS AT QUICK RECOVERY FROM MERG...</td>\n",
       "    </tr>\n",
       "  </tbody>\n",
       "</table>\n",
       "</div>"
      ],
      "text/plain": [
       "                                            sentence  \\\n",
       "0  ASIAN EXPORTERS FEAR DAMAGE FROM U . S .- JAPA...   \n",
       "1  CHINA DAILY SAYS VERMIN EAT 7 - 12 PCT GRAIN S...   \n",
       "2  JAPAN TO REVISE LONG - TERM ENERGY DEMAND DOWN...   \n",
       "3  THAI TRADE DEFICIT WIDENS IN FIRST QUARTER Tha...   \n",
       "4  INDONESIA SEES CPO PRICE RISING SHARPLY Indone...   \n",
       "5  AUSTRALIAN FOREIGN SHIP BAN ENDS BUT NSW PORTS...   \n",
       "6  INDONESIAN COMMODITY EXCHANGE MAY EXPAND The I...   \n",
       "7  SRI LANKA GETS USDA APPROVAL FOR WHEAT PRICE F...   \n",
       "8  WESTERN MINING TO OPEN NEW GOLD MINE IN AUSTRA...   \n",
       "9  SUMITOMO BANK AIMS AT QUICK RECOVERY FROM MERG...   \n",
       "\n",
       "                                   original_sentence  \n",
       "0  ASIAN EXPORTERS FEAR DAMAGE FROM U . S .- JAPA...  \n",
       "1  CHINA DAILY SAYS VERMIN EAT 7 - 12 PCT GRAIN S...  \n",
       "2  JAPAN TO REVISE LONG - TERM ENERGY DEMAND DOWN...  \n",
       "3  THAI TRADE DEFICIT WIDENS IN FIRST QUARTER Tha...  \n",
       "4  INDONESIA SEES CPO PRICE RISING SHARPLY Indone...  \n",
       "5  AUSTRALIAN FOREIGN SHIP BAN ENDS BUT NSW PORTS...  \n",
       "6  INDONESIAN COMMODITY EXCHANGE MAY EXPAND The I...  \n",
       "7  SRI LANKA GETS USDA APPROVAL FOR WHEAT PRICE F...  \n",
       "8  WESTERN MINING TO OPEN NEW GOLD MINE IN AUSTRA...  \n",
       "9  SUMITOMO BANK AIMS AT QUICK RECOVERY FROM MERG...  "
      ]
     },
     "execution_count": 13,
     "metadata": {},
     "output_type": "execute_result"
    }
   ],
   "source": [
    "# Show the the first 10 rows of the data set\n",
    "df.head(10)"
   ]
  },
  {
   "cell_type": "code",
   "execution_count": 14,
   "id": "black-breakfast",
   "metadata": {},
   "outputs": [
    {
     "name": "stdout",
     "output_type": "stream",
     "text": [
      "JAPAN TO REVISE LONG - TERM ENERGY DEMAND DOWNWARDS The Ministry of International Trade and Industry ( MITI ) will revise its long - term energy supply / demand outlook by August to meet a forecast downtrend in Japanese energy demand , ministry officials said . MITI is expected to lower the projection for primary energy supplies in the year 2000 to 550 mln kilolitres ( kl ) from 600 mln , they said . The decision follows the emergence of structural changes in Japanese industry following the rise in the value of the yen and a decline in domestic electric power demand . MITI is planning to work out a revised energy supply / demand outlook through deliberations of committee meetings of the Agency of Natural Resources and Energy , the officials said . They said MITI will also review the breakdown of energy supply sources , including oil , nuclear , coal and natural gas . Nuclear energy provided the bulk of Japan ' s electric power in the fiscal year ended March 31 , supplying an estimated 27 pct on a kilowatt / hour basis , followed by oil ( 23 pct ) and liquefied natural gas ( 21 pct ), they noted .\n"
     ]
    }
   ],
   "source": [
    "# Displaying the 3rd row of the 'sentence dataframe\n",
    "print(df.loc[2, 'sentence'])"
   ]
  },
  {
   "cell_type": "code",
   "execution_count": 15,
   "id": "amateur-interest",
   "metadata": {},
   "outputs": [],
   "source": [
    "# remove all noise hence all non characters, such .,;() etc, in this case \n",
    "# everything except alphanumerical characters.\n",
    "# library for regular expressions\n",
    "import re\n",
    "df['sentence'] = df['sentence'].apply(lambda x: \" \".join([re.sub(\"[^A-Za-z]+\",\"\", x) for x\n",
    "in nltk.word_tokenize(x)]))"
   ]
  },
  {
   "cell_type": "code",
   "execution_count": 16,
   "id": "expired-integration",
   "metadata": {},
   "outputs": [
    {
     "name": "stdout",
     "output_type": "stream",
     "text": [
      "JAPAN TO REVISE LONG  TERM ENERGY DEMAND DOWNWARDS The Ministry of International Trade and Industry  MITI  will revise its long  term energy supply  demand outlook by August to meet a forecast downtrend in Japanese energy demand  ministry officials said  MITI is expected to lower the projection for primary energy supplies in the year  to  mln kilolitres  kl  from  mln  they said  The decision follows the emergence of structural changes in Japanese industry following the rise in the value of the yen and a decline in domestic electric power demand  MITI is planning to work out a revised energy supply  demand outlook through deliberations of committee meetings of the Agency of Natural Resources and Energy  the officials said  They said MITI will also review the breakdown of energy supply sources  including oil  nuclear  coal and natural gas  Nuclear energy provided the bulk of Japan  s electric power in the fiscal year ended March   supplying an estimated  pct on a kilowatt  hour basis  followed by oil   pct  and liquefied natural gas   pct   they noted \n"
     ]
    }
   ],
   "source": [
    "# Displaying the 3rd row after removing noise\n",
    "print(df.loc[2, 'sentence'])"
   ]
  },
  {
   "cell_type": "code",
   "execution_count": 17,
   "id": "liberal-institute",
   "metadata": {},
   "outputs": [],
   "source": [
    "# Convert all data into lower case\n",
    "df['sentence'] = df['sentence'].apply(lambda x: \" \".join(x.lower() for x in str(x).split()))\n"
   ]
  },
  {
   "cell_type": "code",
   "execution_count": 18,
   "id": "comparable-liverpool",
   "metadata": {},
   "outputs": [
    {
     "name": "stdout",
     "output_type": "stream",
     "text": [
      "japan to revise long term energy demand downwards the ministry of international trade and industry miti will revise its long term energy supply demand outlook by august to meet a forecast downtrend in japanese energy demand ministry officials said miti is expected to lower the projection for primary energy supplies in the year to mln kilolitres kl from mln they said the decision follows the emergence of structural changes in japanese industry following the rise in the value of the yen and a decline in domestic electric power demand miti is planning to work out a revised energy supply demand outlook through deliberations of committee meetings of the agency of natural resources and energy the officials said they said miti will also review the breakdown of energy supply sources including oil nuclear coal and natural gas nuclear energy provided the bulk of japan s electric power in the fiscal year ended march supplying an estimated pct on a kilowatt hour basis followed by oil pct and liquefied natural gas pct they noted\n"
     ]
    }
   ],
   "source": [
    "# Displaying the 3rd after converting to lower case\n",
    "print(df.loc[2, 'sentence'])"
   ]
  },
  {
   "cell_type": "code",
   "execution_count": 19,
   "id": "personalized-upper",
   "metadata": {},
   "outputs": [
    {
     "name": "stdout",
     "output_type": "stream",
     "text": [
      "['i', 'me', 'my', 'myself', 'we', 'our', 'ours', 'ourselves', 'you', \"you're\", \"you've\", \"you'll\", \"you'd\", 'your', 'yours', 'yourself', 'yourselves', 'he', 'him', 'his', 'himself', 'she', \"she's\", 'her', 'hers', 'herself', 'it', \"it's\", 'its', 'itself', 'they', 'them', 'their', 'theirs', 'themselves', 'what', 'which', 'who', 'whom', 'this', 'that', \"that'll\", 'these', 'those', 'am', 'is', 'are', 'was', 'were', 'be', 'been', 'being', 'have', 'has', 'had', 'having', 'do', 'does', 'did', 'doing', 'a', 'an', 'the', 'and', 'but', 'if', 'or', 'because', 'as', 'until', 'while', 'of', 'at', 'by', 'for', 'with', 'about', 'against', 'between', 'into', 'through', 'during', 'before', 'after', 'above', 'below', 'to', 'from', 'up', 'down', 'in', 'out', 'on', 'off', 'over', 'under', 'again', 'further', 'then', 'once', 'here', 'there', 'when', 'where', 'why', 'how', 'all', 'any', 'both', 'each', 'few', 'more', 'most', 'other', 'some', 'such', 'no', 'nor', 'not', 'only', 'own', 'same', 'so', 'than', 'too', 'very', 's', 't', 'can', 'will', 'just', 'don', \"don't\", 'should', \"should've\", 'now', 'd', 'll', 'm', 'o', 're', 've', 'y', 'ain', 'aren', \"aren't\", 'couldn', \"couldn't\", 'didn', \"didn't\", 'doesn', \"doesn't\", 'hadn', \"hadn't\", 'hasn', \"hasn't\", 'haven', \"haven't\", 'isn', \"isn't\", 'ma', 'mightn', \"mightn't\", 'mustn', \"mustn't\", 'needn', \"needn't\", 'shan', \"shan't\", 'shouldn', \"shouldn't\", 'wasn', \"wasn't\", 'weren', \"weren't\", 'won', \"won't\", 'wouldn', \"wouldn't\"]\n"
     ]
    },
    {
     "name": "stderr",
     "output_type": "stream",
     "text": [
      "[nltk_data] Downloading package stopwords to\n",
      "[nltk_data]     C:\\Users\\David\\AppData\\Roaming\\nltk_data...\n",
      "[nltk_data]   Package stopwords is already up-to-date!\n"
     ]
    }
   ],
   "source": [
    "# Remove the stop words\n",
    "from nltk.corpus import stopwords\n",
    "nltk.download('stopwords')\n",
    "stop = stopwords.words('english')\n",
    "print(stop)\n",
    "df['sentence'] = df['sentence'].apply(lambda x: \" \".join([x for x in x.split() if x not in stop]))\n"
   ]
  },
  {
   "cell_type": "code",
   "execution_count": 20,
   "id": "orange-coffee",
   "metadata": {},
   "outputs": [
    {
     "name": "stdout",
     "output_type": "stream",
     "text": [
      "japan revise long term energy demand downwards ministry international trade industry miti revise long term energy supply demand outlook august meet forecast downtrend japanese energy demand ministry officials said miti expected lower projection primary energy supplies year mln kilolitres kl mln said decision follows emergence structural changes japanese industry following rise value yen decline domestic electric power demand miti planning work revised energy supply demand outlook deliberations committee meetings agency natural resources energy officials said said miti also review breakdown energy supply sources including oil nuclear coal natural gas nuclear energy provided bulk japan electric power fiscal year ended march supplying estimated pct kilowatt hour basis followed oil pct liquefied natural gas pct noted\n"
     ]
    }
   ],
   "source": [
    "# displaying the 3rd after removing stopwords\n",
    "print(df.loc[2, 'sentence'])"
   ]
  },
  {
   "cell_type": "markdown",
   "id": "mechanical-queens",
   "metadata": {},
   "source": [
    "### Question 6. When you look at the text what can you see have been carried out?"
   ]
  },
  {
   "cell_type": "markdown",
   "id": "identical-poland",
   "metadata": {},
   "source": [
    "Exercise 5: Lemmatisation of words."
   ]
  },
  {
   "cell_type": "code",
   "execution_count": 21,
   "id": "monetary-spiritual",
   "metadata": {},
   "outputs": [
    {
     "name": "stderr",
     "output_type": "stream",
     "text": [
      "[nltk_data] Downloading package wordnet to\n",
      "[nltk_data]     C:\\Users\\David\\AppData\\Roaming\\nltk_data...\n",
      "[nltk_data]   Package wordnet is already up-to-date!\n",
      "[nltk_data] Downloading package averaged_perceptron_tagger to\n",
      "[nltk_data]     C:\\Users\\David\\AppData\\Roaming\\nltk_data...\n",
      "[nltk_data]   Package averaged_perceptron_tagger is already up-to-\n",
      "[nltk_data]       date!\n"
     ]
    }
   ],
   "source": [
    "# Below is the lemmatization function written.\n",
    "from nltk import pos_tag\n",
    "nltk.download('wordnet')\n",
    "from nltk.stem import WordNetLemmatizer\n",
    "nltk.download('averaged_perceptron_tagger')\n",
    "    \n",
    "lemmatizer = WordNetLemmatizer()\n",
    "\n",
    "# penn2morphy function is a utility for converting specific Penn Treebank part-of-speech\n",
    "# tags into their WordNet equivalents, and defaulting to 'noun' if the tag is not found \n",
    "# in its conversion dictionary.\n",
    "# the lemmatiser needs to get instructions of which word classes to lemmatise, \n",
    "# here we have chosen noun, NN, verb, VB, adjective, JJ, and adverb, RB\n",
    "\n",
    "def penn2morphy(penntag):\n",
    "    morphy_tag = {'NN':'n', 'JJ':'a',\n",
    "                 'VB':'v', 'RB':'r'}\n",
    "    try:\n",
    "        return morphy_tag[penntag[:2]]\n",
    "    except:\n",
    "        return 'n'\n",
    "\n",
    "\n",
    "# lemmatizer function\n",
    "def lemmatize_sent(text):\n",
    "    # Text input is string.\n",
    "    return [lemmatizer.lemmatize(word, pos=penn2morphy(tag))\n",
    "            for word, tag in pos_tag(nltk.word_tokenize(text))]\n",
    "\n"
   ]
  },
  {
   "cell_type": "code",
   "execution_count": 22,
   "id": "southern-female",
   "metadata": {},
   "outputs": [
    {
     "name": "stdout",
     "output_type": "stream",
     "text": [
      "['Mazda', 'be', 'a', 'good', 'car', 'than', 'Toyota', '.', 'He', 'love', 'be', 'here', 'in', 'these', 'lovely', 'city', '.', 'This', 'be', 'not', 'economically', 'sustainable', '.', 'He', 'have', 'different', 'viewpoint']\n",
      "['The', 'quick', 'brown', 'fox', 'be', 'jump', 'over', 'the', 'lazy', 'dog', '.', 'Meanwhile', ',', 'a', 'wise', 'owl', 'watch', 'from', 'a', 'nearby', 'branch', '.', 'The', 'forest', 'be', 'alive', 'with', 'the', 'sound', 'of', 'rustle', 'leaf', 'and', 'chirp', 'cricket', 'a', 'the', 'sun', 'set', 'in', 'the', 'distance', '.']\n"
     ]
    }
   ],
   "source": [
    "# Example to test the lemmatiser\n",
    "print(lemmatize_sent('Mazda is a better car than Toyota. He loves being here in these lovely cities. This is not economically sustainable. He has different viewpoints'))\n",
    "\n",
    "# write a interesting sentence and test the lemmatiser, not too short, not too long\n",
    "print(lemmatize_sent('The quick brown foxes are jumping over the lazy dogs. Meanwhile, a wise owl watches from a nearby branch. The forest is alive with the sounds of rustling leaves and chirping crickets as the sun sets in the distance.'))   "
   ]
  },
  {
   "cell_type": "markdown",
   "id": "rough-zealand",
   "metadata": {},
   "source": [
    "### Question 6. Write your own sentence to try out the lemmatizer. Does it work properly?"
   ]
  },
  {
   "cell_type": "code",
   "execution_count": 23,
   "id": "governing-detector",
   "metadata": {},
   "outputs": [],
   "source": [
    "# Perform lemmatization on all sentences\n",
    "df['sentence'] = df['sentence'].apply(lambda x: \" \".join(lemmatize_sent(x)))"
   ]
  },
  {
   "cell_type": "code",
   "execution_count": 24,
   "id": "fundamental-finding",
   "metadata": {},
   "outputs": [
    {
     "name": "stdout",
     "output_type": "stream",
     "text": [
      "Requirement already satisfied: Ipython in c:\\users\\david\\appdata\\roaming\\python\\python311\\site-packages (8.15.0)\n",
      "Requirement already satisfied: backcall in c:\\users\\david\\appdata\\roaming\\python\\python311\\site-packages (from Ipython) (0.2.0)\n",
      "Requirement already satisfied: decorator in c:\\users\\david\\appdata\\roaming\\python\\python311\\site-packages (from Ipython) (5.1.1)\n",
      "Requirement already satisfied: jedi>=0.16 in c:\\users\\david\\appdata\\roaming\\python\\python311\\site-packages (from Ipython) (0.19.0)\n",
      "Requirement already satisfied: matplotlib-inline in c:\\users\\david\\appdata\\roaming\\python\\python311\\site-packages (from Ipython) (0.1.6)\n",
      "Requirement already satisfied: pickleshare in c:\\users\\david\\appdata\\roaming\\python\\python311\\site-packages (from Ipython) (0.7.5)\n",
      "Requirement already satisfied: prompt-toolkit!=3.0.37,<3.1.0,>=3.0.30 in c:\\users\\david\\appdata\\roaming\\python\\python311\\site-packages (from Ipython) (3.0.39)\n",
      "Requirement already satisfied: pygments>=2.4.0 in c:\\users\\david\\appdata\\roaming\\python\\python311\\site-packages (from Ipython) (2.16.1)\n",
      "Requirement already satisfied: stack-data in c:\\users\\david\\appdata\\roaming\\python\\python311\\site-packages (from Ipython) (0.6.2)\n",
      "Requirement already satisfied: traitlets>=5 in c:\\users\\david\\appdata\\roaming\\python\\python311\\site-packages (from Ipython) (5.9.0)\n",
      "Requirement already satisfied: colorama in c:\\users\\david\\appdata\\roaming\\python\\python311\\site-packages (from Ipython) (0.4.6)\n",
      "Requirement already satisfied: parso<0.9.0,>=0.8.3 in c:\\users\\david\\appdata\\roaming\\python\\python311\\site-packages (from jedi>=0.16->Ipython) (0.8.3)\n",
      "Requirement already satisfied: wcwidth in c:\\users\\david\\appdata\\roaming\\python\\python311\\site-packages (from prompt-toolkit!=3.0.37,<3.1.0,>=3.0.30->Ipython) (0.2.6)\n",
      "Requirement already satisfied: executing>=1.2.0 in c:\\users\\david\\appdata\\roaming\\python\\python311\\site-packages (from stack-data->Ipython) (1.2.0)\n",
      "Requirement already satisfied: asttokens>=2.1.0 in c:\\users\\david\\appdata\\roaming\\python\\python311\\site-packages (from stack-data->Ipython) (2.4.0)\n",
      "Requirement already satisfied: pure-eval in c:\\users\\david\\appdata\\roaming\\python\\python311\\site-packages (from stack-data->Ipython) (0.2.2)\n",
      "Requirement already satisfied: six>=1.12.0 in c:\\users\\david\\appdata\\roaming\\python\\python311\\site-packages (from asttokens>=2.1.0->stack-data->Ipython) (1.16.0)\n"
     ]
    }
   ],
   "source": [
    "# Install som libraries at operating system level\n",
    "!pip3 install --user Ipython"
   ]
  },
  {
   "cell_type": "code",
   "execution_count": 25,
   "id": "above-grant",
   "metadata": {},
   "outputs": [
    {
     "data": {
      "text/html": [
       "<table border=\"1\" class=\"dataframe\">\n",
       "  <thead>\n",
       "    <tr style=\"text-align: right;\">\n",
       "      <th></th>\n",
       "      <th>sentence</th>\n",
       "      <th>original_sentence</th>\n",
       "    </tr>\n",
       "  </thead>\n",
       "  <tbody>\n",
       "    <tr>\n",
       "      <th>0</th>\n",
       "      <td>asian exporter fear damage u japan rift mount trade friction u japan raise fear among many asia export nation row could inflict far reach economic damage businessmen official say told reuter correspondent asian capital u move japan might boost protectionist sentiment u lead curb american import product exporter say conflict would hurt long run short term tokyo loss might gain u say impose mln dlrs tariff import japanese electronics good april retaliation japan allege failure stick pact sell semiconductor world market cost unofficial japanese estimate put impact tariff billion dlrs spokesman major electronics firm say would virtually halt export product hit new tax able business say spokesman lead japanese electronics firm matsushita electric industrial co ltd lt mc tariff remain place length time beyond month mean complete erosion export good subject tariff u say tom murtha stock analyst tokyo office broker lt james capel co taiwan businessmen official also worry aware seriousness u threat japan serve warn u say senior taiwanese trade official ask name taiwan trade trade surplus billion dlrs last year pct u surplus help swell taiwan foreign exchange reserve billion dlrs among world large must quickly open market remove trade barrier cut import tariff allow import u product want defuse problem possible u retaliation say paul sheen chairman textile exporter lt taiwan safe group senior official south korea trade promotion association say trade dispute u japan might also lead pressure south korea whose chief export similar japan last year south korea trade surplus billion dlrs u billion dlrs malaysia trade officer businessmen say tough curb japan might allow hard hit producer semiconductor third country expand sale u hong kong newspaper allege japan selling cost semiconductor electronics manufacturer share view businessmen say short term commercial advantage would outweigh u pressure block import short term view say lawrence mill director general federation hong kong industry whole purpose prevent import one day extend source much serious hong kong disadvantage action restrain trade say u last year hong kong big export market account pct domestically produce export australian government await outcome trade talk u japan interest concern industry minister john button say canberra last friday kind deterioration trade relation two country major trade partner serious matter button say say australia concern centre coal beef australia two large export japan also significant u export country meanwhile u japanese diplomatic manoeuvre solve trade stand continue japan ruling liberal democratic party yesterday outline package economic measure boost japanese economy measure propose include large supplementary budget record public work spend first half financial year also call step spending emergency measure stimulate economy despite prime minister yasuhiro nakasone avow fiscal reform program deputy u trade representative michael smith makoto kuroda japan deputy minister international trade industry miti due meet washington week effort end dispute</td>\n",
       "      <td>ASIAN EXPORTERS FEAR DAMAGE FROM U . S .- JAPAN RIFT Mounting trade friction between the U . S . And Japan has raised fears among many of Asia ' s exporting nations that the row could inflict far - reaching economic damage , businessmen and officials said . They told Reuter correspondents in Asian capitals a U . S . Move against Japan might boost protectionist sentiment in the U . S . And lead to curbs on American imports of their products . But some exporters said that while the conflict would hurt them in the long - run , in the short - term Tokyo ' s loss might be their gain . The U . S . Has said it will impose 300 mln dlrs of tariffs on imports of Japanese electronics goods on April 17 , in retaliation for Japan ' s alleged failure to stick to a pact not to sell semiconductors on world markets at below cost . Unofficial Japanese estimates put the impact of the tariffs at 10 billion dlrs and spokesmen for major electronics firms said they would virtually halt exports of products hit by the new taxes . \" We wouldn ' t be able to do business ,\" said a spokesman for leading Japanese electronics firm Matsushita Electric Industrial Co Ltd &amp; lt ; MC . T &gt;. \" If the tariffs remain in place for any length of time beyond a few months it will mean the complete erosion of exports ( of goods subject to tariffs ) to the U . S .,\" said Tom Murtha , a stock analyst at the Tokyo office of broker &amp; lt ; James Capel and Co &gt;. In Taiwan , businessmen and officials are also worried . \" We are aware of the seriousness of the U . S . Threat against Japan because it serves as a warning to us ,\" said a senior Taiwanese trade official who asked not to be named . Taiwan had a trade trade surplus of 15 . 6 billion dlrs last year , 95 pct of it with the U . S . The surplus helped swell Taiwan ' s foreign exchange reserves to 53 billion dlrs , among the world ' s largest . \" We must quickly open our markets , remove trade barriers and cut import tariffs to allow imports of U . S . Products , if we want to defuse problems from possible U . S . Retaliation ,\" said Paul Sheen , chairman of textile exporters &amp; lt ; Taiwan Safe Group &gt;. A senior official of South Korea ' s trade promotion association said the trade dispute between the U . S . And Japan might also lead to pressure on South Korea , whose chief exports are similar to those of Japan . Last year South Korea had a trade surplus of 7 . 1 billion dlrs with the U . S ., Up from 4 . 9 billion dlrs in 1985 . In Malaysia , trade officers and businessmen said tough curbs against Japan might allow hard - hit producers of semiconductors in third countries to expand their sales to the U . S . In Hong Kong , where newspapers have alleged Japan has been selling below - cost semiconductors , some electronics manufacturers share that view . But other businessmen said such a short - term commercial advantage would be outweighed by further U . S . Pressure to block imports . \" That is a very short - term view ,\" said Lawrence Mills , director - general of the Federation of Hong Kong Industry . \" If the whole purpose is to prevent imports , one day it will be extended to other sources . Much more serious for Hong Kong is the disadvantage of action restraining trade ,\" he said . The U . S . Last year was Hong Kong ' s biggest export market , accounting for over 30 pct of domestically produced exports . The Australian government is awaiting the outcome of trade talks between the U . S . And Japan with interest and concern , Industry Minister John Button said in Canberra last Friday . \" This kind of deterioration in trade relations between two countries which are major trading partners of ours is a very serious matter ,\" Button said . He said Australia ' s concerns centred on coal and beef , Australia ' s two largest exports to Japan and also significant U . S . Exports to that country . Meanwhile U . S .- Japanese diplomatic manoeuvres to solve the trade stand - off continue . Japan ' s ruling Liberal Democratic Party yesterday outlined a package of economic measures to boost the Japanese economy . The measures proposed include a large supplementary budget and record public works spending in the first half of the financial year . They also call for stepped - up spending as an emergency measure to stimulate the economy despite Prime Minister Yasuhiro Nakasone ' s avowed fiscal reform program . Deputy U . S . Trade Representative Michael Smith and Makoto Kuroda , Japan ' s deputy minister of International Trade and Industry ( MITI ), are due to meet in Washington this week in an effort to end the dispute .</td>\n",
       "    </tr>\n",
       "    <tr>\n",
       "      <th>1</th>\n",
       "      <td>china daily say vermin eat pct grain stock survey province seven city show vermin consume seven pct china grain stock china daily say also say year mln tonne pct china fruit output leave rot mln tonne pct vegetable paper blame waste inadequate storage bad preservation method say government launch national programme reduce waste call improve technology storage preservation great production additives paper give detail</td>\n",
       "      <td>CHINA DAILY SAYS VERMIN EAT 7 - 12 PCT GRAIN STOCKS A survey of 19 provinces and seven cities showed vermin consume between seven and 12 pct of China ' s grain stocks , the China Daily said . It also said that each year 1 . 575 mln tonnes , or 25 pct , of China ' s fruit output are left to rot , and 2 . 1 mln tonnes , or up to 30 pct , of its vegetables . The paper blamed the waste on inadequate storage and bad preservation methods . It said the government had launched a national programme to reduce waste , calling for improved technology in storage and preservation , and greater production of additives . The paper gave no further details .</td>\n",
       "    </tr>\n",
       "  </tbody>\n",
       "</table>"
      ],
      "text/plain": [
       "<IPython.core.display.HTML object>"
      ]
     },
     "metadata": {},
     "output_type": "display_data"
    }
   ],
   "source": [
    "# Function to pretty print the sentences.\n",
    "import IPython\n",
    "from IPython.display import display, HTML\n",
    "\n",
    "# displaying the 2 first sentences after lemmatizing and comparing with original sentence\n",
    "display(HTML(df.loc[:1, ['sentence', 'original_sentence']].to_html()))"
   ]
  },
  {
   "cell_type": "code",
   "execution_count": 26,
   "id": "infinite-cleaner",
   "metadata": {},
   "outputs": [
    {
     "data": {
      "text/html": [
       "<div>\n",
       "<style scoped>\n",
       "    .dataframe tbody tr th:only-of-type {\n",
       "        vertical-align: middle;\n",
       "    }\n",
       "\n",
       "    .dataframe tbody tr th {\n",
       "        vertical-align: top;\n",
       "    }\n",
       "\n",
       "    .dataframe thead th {\n",
       "        text-align: right;\n",
       "    }\n",
       "</style>\n",
       "<table border=\"1\" class=\"dataframe\">\n",
       "  <thead>\n",
       "    <tr style=\"text-align: right;\">\n",
       "      <th></th>\n",
       "      <th>sentence</th>\n",
       "      <th>original_sentence</th>\n",
       "    </tr>\n",
       "  </thead>\n",
       "  <tbody>\n",
       "    <tr>\n",
       "      <th>0</th>\n",
       "      <td>asian exporter fear damage u japan rift mount ...</td>\n",
       "      <td>ASIAN EXPORTERS FEAR DAMAGE FROM U . S .- JAPA...</td>\n",
       "    </tr>\n",
       "    <tr>\n",
       "      <th>1</th>\n",
       "      <td>china daily say vermin eat pct grain stock sur...</td>\n",
       "      <td>CHINA DAILY SAYS VERMIN EAT 7 - 12 PCT GRAIN S...</td>\n",
       "    </tr>\n",
       "    <tr>\n",
       "      <th>2</th>\n",
       "      <td>japan revise long term energy demand downwards...</td>\n",
       "      <td>JAPAN TO REVISE LONG - TERM ENERGY DEMAND DOWN...</td>\n",
       "    </tr>\n",
       "    <tr>\n",
       "      <th>3</th>\n",
       "      <td>thai trade deficit widen first quarter thailan...</td>\n",
       "      <td>THAI TRADE DEFICIT WIDENS IN FIRST QUARTER Tha...</td>\n",
       "    </tr>\n",
       "    <tr>\n",
       "      <th>4</th>\n",
       "      <td>indonesia see cpo price rise sharply indonesia...</td>\n",
       "      <td>INDONESIA SEES CPO PRICE RISING SHARPLY Indone...</td>\n",
       "    </tr>\n",
       "    <tr>\n",
       "      <th>5</th>\n",
       "      <td>australian foreign ship ban end nsw port hit t...</td>\n",
       "      <td>AUSTRALIAN FOREIGN SHIP BAN ENDS BUT NSW PORTS...</td>\n",
       "    </tr>\n",
       "    <tr>\n",
       "      <th>6</th>\n",
       "      <td>indonesian commodity exchange may expand indon...</td>\n",
       "      <td>INDONESIAN COMMODITY EXCHANGE MAY EXPAND The I...</td>\n",
       "    </tr>\n",
       "    <tr>\n",
       "      <th>7</th>\n",
       "      <td>sri lanka get usda approval wheat price food d...</td>\n",
       "      <td>SRI LANKA GETS USDA APPROVAL FOR WHEAT PRICE F...</td>\n",
       "    </tr>\n",
       "    <tr>\n",
       "      <th>8</th>\n",
       "      <td>western mining open new gold mine australia we...</td>\n",
       "      <td>WESTERN MINING TO OPEN NEW GOLD MINE IN AUSTRA...</td>\n",
       "    </tr>\n",
       "    <tr>\n",
       "      <th>9</th>\n",
       "      <td>sumitomo bank aim quick recovery merger sumito...</td>\n",
       "      <td>SUMITOMO BANK AIMS AT QUICK RECOVERY FROM MERG...</td>\n",
       "    </tr>\n",
       "  </tbody>\n",
       "</table>\n",
       "</div>"
      ],
      "text/plain": [
       "                                            sentence  \\\n",
       "0  asian exporter fear damage u japan rift mount ...   \n",
       "1  china daily say vermin eat pct grain stock sur...   \n",
       "2  japan revise long term energy demand downwards...   \n",
       "3  thai trade deficit widen first quarter thailan...   \n",
       "4  indonesia see cpo price rise sharply indonesia...   \n",
       "5  australian foreign ship ban end nsw port hit t...   \n",
       "6  indonesian commodity exchange may expand indon...   \n",
       "7  sri lanka get usda approval wheat price food d...   \n",
       "8  western mining open new gold mine australia we...   \n",
       "9  sumitomo bank aim quick recovery merger sumito...   \n",
       "\n",
       "                                   original_sentence  \n",
       "0  ASIAN EXPORTERS FEAR DAMAGE FROM U . S .- JAPA...  \n",
       "1  CHINA DAILY SAYS VERMIN EAT 7 - 12 PCT GRAIN S...  \n",
       "2  JAPAN TO REVISE LONG - TERM ENERGY DEMAND DOWN...  \n",
       "3  THAI TRADE DEFICIT WIDENS IN FIRST QUARTER Tha...  \n",
       "4  INDONESIA SEES CPO PRICE RISING SHARPLY Indone...  \n",
       "5  AUSTRALIAN FOREIGN SHIP BAN ENDS BUT NSW PORTS...  \n",
       "6  INDONESIAN COMMODITY EXCHANGE MAY EXPAND The I...  \n",
       "7  SRI LANKA GETS USDA APPROVAL FOR WHEAT PRICE F...  \n",
       "8  WESTERN MINING TO OPEN NEW GOLD MINE IN AUSTRA...  \n",
       "9  SUMITOMO BANK AIMS AT QUICK RECOVERY FROM MERG...  "
      ]
     },
     "execution_count": 26,
     "metadata": {},
     "output_type": "execute_result"
    }
   ],
   "source": [
    "# Show the the first 10 rows of the preprocessed data set and original dateset\n",
    "df.loc[:9, ['sentence', 'original_sentence']]"
   ]
  },
  {
   "cell_type": "markdown",
   "id": "pointed-heading",
   "metadata": {},
   "source": [
    "### Question 7. When comparing the preprocessed and the original sentences, how do you think this will affect the word2vec?"
   ]
  },
  {
   "cell_type": "code",
   "execution_count": 27,
   "id": "described-least",
   "metadata": {},
   "outputs": [],
   "source": [
    "# Convert sentences to words and put it in \"processed_sentence\" column, \n",
    "# hence to make list of lists to feed the word2vec algorithm\n",
    "df['processed_sentence']= df['sentence'].apply(lambda x : x.split())"
   ]
  },
  {
   "cell_type": "code",
   "execution_count": 28,
   "id": "enhanced-forum",
   "metadata": {},
   "outputs": [
    {
     "name": "stdout",
     "output_type": "stream",
     "text": [
      "['japan', 'revise', 'long', 'term', 'energy', 'demand', 'downwards', 'ministry', 'international', 'trade', 'industry', 'miti', 'revise', 'long', 'term', 'energy', 'supply', 'demand', 'outlook', 'august', 'meet', 'forecast', 'downtrend', 'japanese', 'energy', 'demand', 'ministry', 'official', 'say', 'miti', 'expect', 'low', 'projection', 'primary', 'energy', 'supply', 'year', 'mln', 'kilolitres', 'kl', 'mln', 'say', 'decision', 'follow', 'emergence', 'structural', 'change', 'japanese', 'industry', 'follow', 'rise', 'value', 'yen', 'decline', 'domestic', 'electric', 'power', 'demand', 'miti', 'planning', 'work', 'revise', 'energy', 'supply', 'demand', 'outlook', 'deliberation', 'committee', 'meeting', 'agency', 'natural', 'resource', 'energy', 'official', 'say', 'say', 'miti', 'also', 'review', 'breakdown', 'energy', 'supply', 'source', 'include', 'oil', 'nuclear', 'coal', 'natural', 'gas', 'nuclear', 'energy', 'provide', 'bulk', 'japan', 'electric', 'power', 'fiscal', 'year', 'end', 'march', 'supply', 'estimate', 'pct', 'kilowatt', 'hour', 'basis', 'follow', 'oil', 'pct', 'liquefy', 'natural', 'gas', 'pct', 'note']\n"
     ]
    }
   ],
   "source": [
    "# Displaying the 3rd row after converting to words\n",
    "print(df.iloc[2]['processed_sentence'])"
   ]
  },
  {
   "cell_type": "code",
   "execution_count": 29,
   "id": "every-cherry",
   "metadata": {},
   "outputs": [],
   "source": [
    "# get clean data (noise reduction, lower case, stop word removal and lemmatization)\n",
    "cleaned_sentences = df['processed_sentence']"
   ]
  },
  {
   "cell_type": "code",
   "execution_count": 30,
   "id": "human-anaheim",
   "metadata": {},
   "outputs": [
    {
     "data": {
      "text/plain": [
       "0        [asian, exporter, fear, damage, u, japan, rift...\n",
       "1        [china, daily, say, vermin, eat, pct, grain, s...\n",
       "2        [japan, revise, long, term, energy, demand, do...\n",
       "3        [thai, trade, deficit, widen, first, quarter, ...\n",
       "4        [indonesia, see, cpo, price, rise, sharply, in...\n",
       "                               ...                        \n",
       "10783    [u, k, money, market, shortage, forecast, revi...\n",
       "10784    [knight, ridder, inc, lt, krn, set, quarterly,...\n",
       "10785    [technitrol, inc, lt, tnl, set, quarterly, qtl...\n",
       "10786    [nationwide, cellular, service, inc, lt, ncel,...\n",
       "10787    [lt, h, automotive, technology, corp, year, ne...\n",
       "Name: processed_sentence, Length: 10788, dtype: object"
      ]
     },
     "execution_count": 30,
     "metadata": {},
     "output_type": "execute_result"
    }
   ],
   "source": [
    "cleaned_sentences"
   ]
  },
  {
   "cell_type": "markdown",
   "id": "furnished-forty",
   "metadata": {
    "id": "furnished-forty"
   },
   "source": [
    "#### Question 8. What about stop word filtering or lemmatisation, how does that effect the similarity scores? Are they better or worse? Please discuss. "
   ]
  },
  {
   "cell_type": "code",
   "execution_count": 31,
   "id": "french-ordinary",
   "metadata": {
    "id": "french-ordinary"
   },
   "outputs": [
    {
     "name": "stdout",
     "output_type": "stream",
     "text": [
      "[-2.6237828e-01  1.0334674e+00 -1.8104994e+00  6.8121731e-01\n",
      "  1.8120116e-01  2.8664717e-02  6.9259387e-01  1.8393155e+00\n",
      "  1.4036654e+00  8.9888114e-01 -5.0176746e-01 -1.1607921e+00\n",
      " -1.1626451e+00 -6.7188567e-03 -2.8223148e-01  3.7768204e-02\n",
      "  5.1969022e-01 -1.2591678e+00 -3.8782351e-02 -7.9205155e-02\n",
      "  1.3112509e+00 -5.3181738e-01 -8.1847352e-01  1.5476577e+00\n",
      " -1.7563993e+00 -7.7186489e-01 -5.0444824e-01  3.7775013e-01\n",
      " -8.6114496e-01  7.3197114e-01  1.3522334e+00 -1.4682155e+00\n",
      "  1.6402821e-01  1.0172895e+00 -1.5423242e+00 -7.0448697e-01\n",
      "  1.8420955e+00 -1.9724704e+00  8.6732101e-01 -7.9823327e-01\n",
      "  1.3440945e+00  6.5371245e-01 -6.4129198e-01 -5.1420373e-01\n",
      " -2.7793720e-01 -2.2636591e-01 -1.3119627e+00 -6.6612996e-02\n",
      "  1.7363222e+00  3.3171928e-01  1.3110876e+00 -1.7070427e+00\n",
      " -9.0783173e-01 -1.2397906e-01  7.4256390e-01 -2.3367156e-01\n",
      "  1.0906454e+00 -4.1981736e-01 -1.9774607e+00 -2.9199052e-01\n",
      " -1.5975155e+00  1.7213882e+00  6.6298312e-01 -2.3358831e+00\n",
      " -1.2878349e+00 -1.4288434e+00  8.6416942e-01 -7.8643352e-01\n",
      " -1.3519577e+00  3.3789352e-01 -2.1357287e-01 -2.1034799e+00\n",
      "  3.2756263e-01 -1.1088054e+00 -2.2975628e-01 -8.1131107e-01\n",
      " -1.5404324e-01  1.4001681e-01 -1.2385187e+00  3.7310010e-01\n",
      " -1.6066349e+00  4.9686036e-03 -1.6840314e+00  3.4173703e+00\n",
      " -2.1382363e+00 -9.5950276e-02 -1.7458887e+00  1.6108156e+00\n",
      " -1.1153082e+00 -4.9883735e-01  3.7799877e-01  8.5164452e-01\n",
      " -8.9657432e-01  1.4322983e-03  1.0632029e+00  6.4639002e-01\n",
      "  4.9384914e-02 -1.1897061e+00 -2.3021713e-01  1.5348639e+00]\n"
     ]
    }
   ],
   "source": [
    "cleaned_model = Word2Vec(cleaned_sentences, vector_size=100, window=5, min_count=1, sg=0)\n",
    "# Find vector for a word\n",
    "vector = cleaned_model.wv['economy']\n",
    "\n",
    "# Print the vector for the word\n",
    "print(vector)\n"
   ]
  },
  {
   "cell_type": "code",
   "execution_count": 32,
   "id": "understanding-gauge",
   "metadata": {},
   "outputs": [
    {
     "name": "stdout",
     "output_type": "stream",
     "text": [
      "[('recession', 0.8983740210533142), ('economic', 0.897454559803009), ('slow', 0.8885834813117981), ('prospect', 0.8729284405708313), ('stimulate', 0.8723751902580261), ('inflationary', 0.8711614012718201), ('pressure', 0.8654695749282837), ('turn', 0.8647941946983337), ('sustain', 0.8580414652824402), ('external', 0.8543429970741272)]\n"
     ]
    }
   ],
   "source": [
    "# Find words most similar to a given word\n",
    "# remember that all words are now in lower case.\n",
    "# europe, oil, export, economy, business, agricultural, russia, china, president, queen, unemployment, computer\n",
    "similar_words = cleaned_model.wv.most_similar('economy')\n",
    "\n",
    "print(similar_words)"
   ]
  },
  {
   "cell_type": "markdown",
   "id": "large-washer",
   "metadata": {},
   "source": [
    "Exercise 6: Visualizing Word Vectors.\n",
    "\n",
    "Here we create visualizations of word vectors. We install some additional libraries like pyplot / plotly."
   ]
  },
  {
   "cell_type": "code",
   "execution_count": 33,
   "id": "demonstrated-tuesday",
   "metadata": {},
   "outputs": [
    {
     "name": "stdout",
     "output_type": "stream",
     "text": [
      "10\n"
     ]
    }
   ],
   "source": [
    "from sklearn.decomposition import PCA\n",
    "from matplotlib import pyplot\n",
    "\n",
    "# all unique words in Reuters corpora that will make a word cloud that is diffuclut to investigate.\n",
    "#unique_words = list(set(word for sentence in cleaned_sentences for word in sentence))\n",
    "\n",
    "# some fewer words that are easy to display and investigate\n",
    "unique_words = ['president', 'chairman','dollar', 'money','rate','oil', 'trade','fuel', 'stock','recovery']\n",
    "\n",
    "# Retrieve the word vectors for only the unique words\n",
    "# not preprocessed word2model\n",
    "# X = [model.wv[word] for word in unique_words if word in model.wv]\n",
    "# preprocessed word2model\n",
    "# X = [cleaned_model.wv[word] for word in unique_words if word in cleaned_model.wv]\n",
    "# preprocessed word2model with 200 words of all unique words\n",
    "# X = [cleaned_model.wv[word] for word in unique_words[100:200] if word in model.wv]\n",
    "X = [cleaned_model.wv[word] for word in unique_words if word in cleaned_model.wv]\n",
    "\n",
    "print(len(unique_words))\n",
    "# Fit a 2d PCA model to the vectors\n",
    "pca = PCA(n_components=2)\n",
    "result = pca.fit_transform(X)"
   ]
  },
  {
   "cell_type": "code",
   "execution_count": 34,
   "id": "split-providence",
   "metadata": {},
   "outputs": [
    {
     "data": {
      "application/vnd.plotly.v1+json": {
       "config": {
        "plotlyServerURL": "https://plot.ly"
       },
       "data": [
        {
         "mode": "markers+text",
         "text": [
          "president",
          "chairman",
          "dollar",
          "money",
          "rate",
          "oil",
          "trade",
          "fuel",
          "stock",
          "recovery"
         ],
         "textposition": "top center",
         "type": "scatter",
         "x": [
          9.82589649052254,
          10.55959672761096,
          -6.735594913520615,
          -5.637907110092764,
          -10.324645436462832,
          1.1891234418613883,
          -0.17581145740865786,
          1.525867038447657,
          -2.41306878939627,
          2.1865440084385876
         ],
         "y": [
          -4.6487825377934575,
          -4.609710018000803,
          -2.2996389863827034,
          -1.7787466594373054,
          -5.630409855547024,
          11.099994671316502,
          0.03546462495111983,
          3.2574915086939,
          3.7960180246707127,
          0.7783192275290588
         ]
        }
       ],
       "layout": {
        "template": {
         "data": {
          "bar": [
           {
            "error_x": {
             "color": "#2a3f5f"
            },
            "error_y": {
             "color": "#2a3f5f"
            },
            "marker": {
             "line": {
              "color": "#E5ECF6",
              "width": 0.5
             },
             "pattern": {
              "fillmode": "overlay",
              "size": 10,
              "solidity": 0.2
             }
            },
            "type": "bar"
           }
          ],
          "barpolar": [
           {
            "marker": {
             "line": {
              "color": "#E5ECF6",
              "width": 0.5
             },
             "pattern": {
              "fillmode": "overlay",
              "size": 10,
              "solidity": 0.2
             }
            },
            "type": "barpolar"
           }
          ],
          "carpet": [
           {
            "aaxis": {
             "endlinecolor": "#2a3f5f",
             "gridcolor": "white",
             "linecolor": "white",
             "minorgridcolor": "white",
             "startlinecolor": "#2a3f5f"
            },
            "baxis": {
             "endlinecolor": "#2a3f5f",
             "gridcolor": "white",
             "linecolor": "white",
             "minorgridcolor": "white",
             "startlinecolor": "#2a3f5f"
            },
            "type": "carpet"
           }
          ],
          "choropleth": [
           {
            "colorbar": {
             "outlinewidth": 0,
             "ticks": ""
            },
            "type": "choropleth"
           }
          ],
          "contour": [
           {
            "colorbar": {
             "outlinewidth": 0,
             "ticks": ""
            },
            "colorscale": [
             [
              0,
              "#0d0887"
             ],
             [
              0.1111111111111111,
              "#46039f"
             ],
             [
              0.2222222222222222,
              "#7201a8"
             ],
             [
              0.3333333333333333,
              "#9c179e"
             ],
             [
              0.4444444444444444,
              "#bd3786"
             ],
             [
              0.5555555555555556,
              "#d8576b"
             ],
             [
              0.6666666666666666,
              "#ed7953"
             ],
             [
              0.7777777777777778,
              "#fb9f3a"
             ],
             [
              0.8888888888888888,
              "#fdca26"
             ],
             [
              1,
              "#f0f921"
             ]
            ],
            "type": "contour"
           }
          ],
          "contourcarpet": [
           {
            "colorbar": {
             "outlinewidth": 0,
             "ticks": ""
            },
            "type": "contourcarpet"
           }
          ],
          "heatmap": [
           {
            "colorbar": {
             "outlinewidth": 0,
             "ticks": ""
            },
            "colorscale": [
             [
              0,
              "#0d0887"
             ],
             [
              0.1111111111111111,
              "#46039f"
             ],
             [
              0.2222222222222222,
              "#7201a8"
             ],
             [
              0.3333333333333333,
              "#9c179e"
             ],
             [
              0.4444444444444444,
              "#bd3786"
             ],
             [
              0.5555555555555556,
              "#d8576b"
             ],
             [
              0.6666666666666666,
              "#ed7953"
             ],
             [
              0.7777777777777778,
              "#fb9f3a"
             ],
             [
              0.8888888888888888,
              "#fdca26"
             ],
             [
              1,
              "#f0f921"
             ]
            ],
            "type": "heatmap"
           }
          ],
          "heatmapgl": [
           {
            "colorbar": {
             "outlinewidth": 0,
             "ticks": ""
            },
            "colorscale": [
             [
              0,
              "#0d0887"
             ],
             [
              0.1111111111111111,
              "#46039f"
             ],
             [
              0.2222222222222222,
              "#7201a8"
             ],
             [
              0.3333333333333333,
              "#9c179e"
             ],
             [
              0.4444444444444444,
              "#bd3786"
             ],
             [
              0.5555555555555556,
              "#d8576b"
             ],
             [
              0.6666666666666666,
              "#ed7953"
             ],
             [
              0.7777777777777778,
              "#fb9f3a"
             ],
             [
              0.8888888888888888,
              "#fdca26"
             ],
             [
              1,
              "#f0f921"
             ]
            ],
            "type": "heatmapgl"
           }
          ],
          "histogram": [
           {
            "marker": {
             "pattern": {
              "fillmode": "overlay",
              "size": 10,
              "solidity": 0.2
             }
            },
            "type": "histogram"
           }
          ],
          "histogram2d": [
           {
            "colorbar": {
             "outlinewidth": 0,
             "ticks": ""
            },
            "colorscale": [
             [
              0,
              "#0d0887"
             ],
             [
              0.1111111111111111,
              "#46039f"
             ],
             [
              0.2222222222222222,
              "#7201a8"
             ],
             [
              0.3333333333333333,
              "#9c179e"
             ],
             [
              0.4444444444444444,
              "#bd3786"
             ],
             [
              0.5555555555555556,
              "#d8576b"
             ],
             [
              0.6666666666666666,
              "#ed7953"
             ],
             [
              0.7777777777777778,
              "#fb9f3a"
             ],
             [
              0.8888888888888888,
              "#fdca26"
             ],
             [
              1,
              "#f0f921"
             ]
            ],
            "type": "histogram2d"
           }
          ],
          "histogram2dcontour": [
           {
            "colorbar": {
             "outlinewidth": 0,
             "ticks": ""
            },
            "colorscale": [
             [
              0,
              "#0d0887"
             ],
             [
              0.1111111111111111,
              "#46039f"
             ],
             [
              0.2222222222222222,
              "#7201a8"
             ],
             [
              0.3333333333333333,
              "#9c179e"
             ],
             [
              0.4444444444444444,
              "#bd3786"
             ],
             [
              0.5555555555555556,
              "#d8576b"
             ],
             [
              0.6666666666666666,
              "#ed7953"
             ],
             [
              0.7777777777777778,
              "#fb9f3a"
             ],
             [
              0.8888888888888888,
              "#fdca26"
             ],
             [
              1,
              "#f0f921"
             ]
            ],
            "type": "histogram2dcontour"
           }
          ],
          "mesh3d": [
           {
            "colorbar": {
             "outlinewidth": 0,
             "ticks": ""
            },
            "type": "mesh3d"
           }
          ],
          "parcoords": [
           {
            "line": {
             "colorbar": {
              "outlinewidth": 0,
              "ticks": ""
             }
            },
            "type": "parcoords"
           }
          ],
          "pie": [
           {
            "automargin": true,
            "type": "pie"
           }
          ],
          "scatter": [
           {
            "fillpattern": {
             "fillmode": "overlay",
             "size": 10,
             "solidity": 0.2
            },
            "type": "scatter"
           }
          ],
          "scatter3d": [
           {
            "line": {
             "colorbar": {
              "outlinewidth": 0,
              "ticks": ""
             }
            },
            "marker": {
             "colorbar": {
              "outlinewidth": 0,
              "ticks": ""
             }
            },
            "type": "scatter3d"
           }
          ],
          "scattercarpet": [
           {
            "marker": {
             "colorbar": {
              "outlinewidth": 0,
              "ticks": ""
             }
            },
            "type": "scattercarpet"
           }
          ],
          "scattergeo": [
           {
            "marker": {
             "colorbar": {
              "outlinewidth": 0,
              "ticks": ""
             }
            },
            "type": "scattergeo"
           }
          ],
          "scattergl": [
           {
            "marker": {
             "colorbar": {
              "outlinewidth": 0,
              "ticks": ""
             }
            },
            "type": "scattergl"
           }
          ],
          "scattermapbox": [
           {
            "marker": {
             "colorbar": {
              "outlinewidth": 0,
              "ticks": ""
             }
            },
            "type": "scattermapbox"
           }
          ],
          "scatterpolar": [
           {
            "marker": {
             "colorbar": {
              "outlinewidth": 0,
              "ticks": ""
             }
            },
            "type": "scatterpolar"
           }
          ],
          "scatterpolargl": [
           {
            "marker": {
             "colorbar": {
              "outlinewidth": 0,
              "ticks": ""
             }
            },
            "type": "scatterpolargl"
           }
          ],
          "scatterternary": [
           {
            "marker": {
             "colorbar": {
              "outlinewidth": 0,
              "ticks": ""
             }
            },
            "type": "scatterternary"
           }
          ],
          "surface": [
           {
            "colorbar": {
             "outlinewidth": 0,
             "ticks": ""
            },
            "colorscale": [
             [
              0,
              "#0d0887"
             ],
             [
              0.1111111111111111,
              "#46039f"
             ],
             [
              0.2222222222222222,
              "#7201a8"
             ],
             [
              0.3333333333333333,
              "#9c179e"
             ],
             [
              0.4444444444444444,
              "#bd3786"
             ],
             [
              0.5555555555555556,
              "#d8576b"
             ],
             [
              0.6666666666666666,
              "#ed7953"
             ],
             [
              0.7777777777777778,
              "#fb9f3a"
             ],
             [
              0.8888888888888888,
              "#fdca26"
             ],
             [
              1,
              "#f0f921"
             ]
            ],
            "type": "surface"
           }
          ],
          "table": [
           {
            "cells": {
             "fill": {
              "color": "#EBF0F8"
             },
             "line": {
              "color": "white"
             }
            },
            "header": {
             "fill": {
              "color": "#C8D4E3"
             },
             "line": {
              "color": "white"
             }
            },
            "type": "table"
           }
          ]
         },
         "layout": {
          "annotationdefaults": {
           "arrowcolor": "#2a3f5f",
           "arrowhead": 0,
           "arrowwidth": 1
          },
          "autotypenumbers": "strict",
          "coloraxis": {
           "colorbar": {
            "outlinewidth": 0,
            "ticks": ""
           }
          },
          "colorscale": {
           "diverging": [
            [
             0,
             "#8e0152"
            ],
            [
             0.1,
             "#c51b7d"
            ],
            [
             0.2,
             "#de77ae"
            ],
            [
             0.3,
             "#f1b6da"
            ],
            [
             0.4,
             "#fde0ef"
            ],
            [
             0.5,
             "#f7f7f7"
            ],
            [
             0.6,
             "#e6f5d0"
            ],
            [
             0.7,
             "#b8e186"
            ],
            [
             0.8,
             "#7fbc41"
            ],
            [
             0.9,
             "#4d9221"
            ],
            [
             1,
             "#276419"
            ]
           ],
           "sequential": [
            [
             0,
             "#0d0887"
            ],
            [
             0.1111111111111111,
             "#46039f"
            ],
            [
             0.2222222222222222,
             "#7201a8"
            ],
            [
             0.3333333333333333,
             "#9c179e"
            ],
            [
             0.4444444444444444,
             "#bd3786"
            ],
            [
             0.5555555555555556,
             "#d8576b"
            ],
            [
             0.6666666666666666,
             "#ed7953"
            ],
            [
             0.7777777777777778,
             "#fb9f3a"
            ],
            [
             0.8888888888888888,
             "#fdca26"
            ],
            [
             1,
             "#f0f921"
            ]
           ],
           "sequentialminus": [
            [
             0,
             "#0d0887"
            ],
            [
             0.1111111111111111,
             "#46039f"
            ],
            [
             0.2222222222222222,
             "#7201a8"
            ],
            [
             0.3333333333333333,
             "#9c179e"
            ],
            [
             0.4444444444444444,
             "#bd3786"
            ],
            [
             0.5555555555555556,
             "#d8576b"
            ],
            [
             0.6666666666666666,
             "#ed7953"
            ],
            [
             0.7777777777777778,
             "#fb9f3a"
            ],
            [
             0.8888888888888888,
             "#fdca26"
            ],
            [
             1,
             "#f0f921"
            ]
           ]
          },
          "colorway": [
           "#636efa",
           "#EF553B",
           "#00cc96",
           "#ab63fa",
           "#FFA15A",
           "#19d3f3",
           "#FF6692",
           "#B6E880",
           "#FF97FF",
           "#FECB52"
          ],
          "font": {
           "color": "#2a3f5f"
          },
          "geo": {
           "bgcolor": "white",
           "lakecolor": "white",
           "landcolor": "#E5ECF6",
           "showlakes": true,
           "showland": true,
           "subunitcolor": "white"
          },
          "hoverlabel": {
           "align": "left"
          },
          "hovermode": "closest",
          "mapbox": {
           "style": "light"
          },
          "paper_bgcolor": "white",
          "plot_bgcolor": "#E5ECF6",
          "polar": {
           "angularaxis": {
            "gridcolor": "white",
            "linecolor": "white",
            "ticks": ""
           },
           "bgcolor": "#E5ECF6",
           "radialaxis": {
            "gridcolor": "white",
            "linecolor": "white",
            "ticks": ""
           }
          },
          "scene": {
           "xaxis": {
            "backgroundcolor": "#E5ECF6",
            "gridcolor": "white",
            "gridwidth": 2,
            "linecolor": "white",
            "showbackground": true,
            "ticks": "",
            "zerolinecolor": "white"
           },
           "yaxis": {
            "backgroundcolor": "#E5ECF6",
            "gridcolor": "white",
            "gridwidth": 2,
            "linecolor": "white",
            "showbackground": true,
            "ticks": "",
            "zerolinecolor": "white"
           },
           "zaxis": {
            "backgroundcolor": "#E5ECF6",
            "gridcolor": "white",
            "gridwidth": 2,
            "linecolor": "white",
            "showbackground": true,
            "ticks": "",
            "zerolinecolor": "white"
           }
          },
          "shapedefaults": {
           "line": {
            "color": "#2a3f5f"
           }
          },
          "ternary": {
           "aaxis": {
            "gridcolor": "white",
            "linecolor": "white",
            "ticks": ""
           },
           "baxis": {
            "gridcolor": "white",
            "linecolor": "white",
            "ticks": ""
           },
           "bgcolor": "#E5ECF6",
           "caxis": {
            "gridcolor": "white",
            "linecolor": "white",
            "ticks": ""
           }
          },
          "title": {
           "x": 0.05
          },
          "xaxis": {
           "automargin": true,
           "gridcolor": "white",
           "linecolor": "white",
           "ticks": "",
           "title": {
            "standoff": 15
           },
           "zerolinecolor": "white",
           "zerolinewidth": 2
          },
          "yaxis": {
           "automargin": true,
           "gridcolor": "white",
           "linecolor": "white",
           "ticks": "",
           "title": {
            "standoff": 15
           },
           "zerolinecolor": "white",
           "zerolinewidth": 2
          }
         }
        },
        "title": {
         "text": "Unique Word Embeddings"
        },
        "xaxis": {
         "title": {
          "text": "PCA Dimension 1"
         }
        },
        "yaxis": {
         "title": {
          "text": "PCA Dimension 2"
         }
        }
       }
      }
     },
     "metadata": {},
     "output_type": "display_data"
    }
   ],
   "source": [
    "#pip install plotly\n",
    "import plotly.graph_objs as go\n",
    "\n",
    "# Extract coordinates\n",
    "x_coords = result[:, 0]\n",
    "y_coords = result[:, 1]\n",
    "\n",
    "# Create a scatter plot\n",
    "scatter = go.Scatter(x=x_coords, y=y_coords, mode='markers+text', text=unique_words, textposition='top center')\n",
    "\n",
    "# Define layout\n",
    "layout = go.Layout(\n",
    "    title='Unique Word Embeddings',\n",
    "    xaxis=dict(title='PCA Dimension 1'),\n",
    "    yaxis=dict(title='PCA Dimension 2')\n",
    ")\n",
    "\n",
    "# Define figure and plot\n",
    "fig = go.Figure(data=[scatter], layout=layout)\n",
    "fig.show()"
   ]
  },
  {
   "cell_type": "markdown",
   "id": "speaking-frontier",
   "metadata": {},
   "source": [
    "#### Question 9. Try to comment out the stop word filtering or lemmatisation and build a new word2vec model. How are the results now?\n",
    "\n",
    "You can do it easily by use the old un-processed model\n",
    "X = [model.wv[word] for word in unique_words if word in model.wv]\n",
    "and then visualise it above or just add some code here below and run it again.\n"
   ]
  },
  {
   "cell_type": "code",
   "execution_count": 42,
   "id": "smart-return",
   "metadata": {},
   "outputs": [
    {
     "name": "stdout",
     "output_type": "stream",
     "text": [
      "10\n"
     ]
    },
    {
     "data": {
      "application/vnd.plotly.v1+json": {
       "config": {
        "plotlyServerURL": "https://plot.ly"
       },
       "data": [
        {
         "mode": "markers+text",
         "text": [
          "industry",
          "product",
          "cost",
          "domestic",
          "conflict",
          "billion",
          "chairman",
          "minister",
          "money",
          "stimulate"
         ],
         "textposition": "top center",
         "type": "scatter",
         "x": [
          1.7964441356109906,
          -2.2142242733494784,
          -4.496615160625633,
          -3.1227553819383735,
          1.517265691355568,
          -8.624530627214412,
          8.850829889467045,
          11.163068289905189,
          -5.769977939949562,
          0.9004953767386682
         ],
         "y": [
          -4.155915723673698,
          -5.424943383401651,
          -4.646796766397179,
          -0.742821447882276,
          -1.306647512564239,
          5.6505723071302985,
          -1.0711944140325833,
          6.343503677763136,
          6.476015487401001,
          -1.1217722243428099
         ]
        }
       ],
       "layout": {
        "template": {
         "data": {
          "bar": [
           {
            "error_x": {
             "color": "#2a3f5f"
            },
            "error_y": {
             "color": "#2a3f5f"
            },
            "marker": {
             "line": {
              "color": "#E5ECF6",
              "width": 0.5
             },
             "pattern": {
              "fillmode": "overlay",
              "size": 10,
              "solidity": 0.2
             }
            },
            "type": "bar"
           }
          ],
          "barpolar": [
           {
            "marker": {
             "line": {
              "color": "#E5ECF6",
              "width": 0.5
             },
             "pattern": {
              "fillmode": "overlay",
              "size": 10,
              "solidity": 0.2
             }
            },
            "type": "barpolar"
           }
          ],
          "carpet": [
           {
            "aaxis": {
             "endlinecolor": "#2a3f5f",
             "gridcolor": "white",
             "linecolor": "white",
             "minorgridcolor": "white",
             "startlinecolor": "#2a3f5f"
            },
            "baxis": {
             "endlinecolor": "#2a3f5f",
             "gridcolor": "white",
             "linecolor": "white",
             "minorgridcolor": "white",
             "startlinecolor": "#2a3f5f"
            },
            "type": "carpet"
           }
          ],
          "choropleth": [
           {
            "colorbar": {
             "outlinewidth": 0,
             "ticks": ""
            },
            "type": "choropleth"
           }
          ],
          "contour": [
           {
            "colorbar": {
             "outlinewidth": 0,
             "ticks": ""
            },
            "colorscale": [
             [
              0,
              "#0d0887"
             ],
             [
              0.1111111111111111,
              "#46039f"
             ],
             [
              0.2222222222222222,
              "#7201a8"
             ],
             [
              0.3333333333333333,
              "#9c179e"
             ],
             [
              0.4444444444444444,
              "#bd3786"
             ],
             [
              0.5555555555555556,
              "#d8576b"
             ],
             [
              0.6666666666666666,
              "#ed7953"
             ],
             [
              0.7777777777777778,
              "#fb9f3a"
             ],
             [
              0.8888888888888888,
              "#fdca26"
             ],
             [
              1,
              "#f0f921"
             ]
            ],
            "type": "contour"
           }
          ],
          "contourcarpet": [
           {
            "colorbar": {
             "outlinewidth": 0,
             "ticks": ""
            },
            "type": "contourcarpet"
           }
          ],
          "heatmap": [
           {
            "colorbar": {
             "outlinewidth": 0,
             "ticks": ""
            },
            "colorscale": [
             [
              0,
              "#0d0887"
             ],
             [
              0.1111111111111111,
              "#46039f"
             ],
             [
              0.2222222222222222,
              "#7201a8"
             ],
             [
              0.3333333333333333,
              "#9c179e"
             ],
             [
              0.4444444444444444,
              "#bd3786"
             ],
             [
              0.5555555555555556,
              "#d8576b"
             ],
             [
              0.6666666666666666,
              "#ed7953"
             ],
             [
              0.7777777777777778,
              "#fb9f3a"
             ],
             [
              0.8888888888888888,
              "#fdca26"
             ],
             [
              1,
              "#f0f921"
             ]
            ],
            "type": "heatmap"
           }
          ],
          "heatmapgl": [
           {
            "colorbar": {
             "outlinewidth": 0,
             "ticks": ""
            },
            "colorscale": [
             [
              0,
              "#0d0887"
             ],
             [
              0.1111111111111111,
              "#46039f"
             ],
             [
              0.2222222222222222,
              "#7201a8"
             ],
             [
              0.3333333333333333,
              "#9c179e"
             ],
             [
              0.4444444444444444,
              "#bd3786"
             ],
             [
              0.5555555555555556,
              "#d8576b"
             ],
             [
              0.6666666666666666,
              "#ed7953"
             ],
             [
              0.7777777777777778,
              "#fb9f3a"
             ],
             [
              0.8888888888888888,
              "#fdca26"
             ],
             [
              1,
              "#f0f921"
             ]
            ],
            "type": "heatmapgl"
           }
          ],
          "histogram": [
           {
            "marker": {
             "pattern": {
              "fillmode": "overlay",
              "size": 10,
              "solidity": 0.2
             }
            },
            "type": "histogram"
           }
          ],
          "histogram2d": [
           {
            "colorbar": {
             "outlinewidth": 0,
             "ticks": ""
            },
            "colorscale": [
             [
              0,
              "#0d0887"
             ],
             [
              0.1111111111111111,
              "#46039f"
             ],
             [
              0.2222222222222222,
              "#7201a8"
             ],
             [
              0.3333333333333333,
              "#9c179e"
             ],
             [
              0.4444444444444444,
              "#bd3786"
             ],
             [
              0.5555555555555556,
              "#d8576b"
             ],
             [
              0.6666666666666666,
              "#ed7953"
             ],
             [
              0.7777777777777778,
              "#fb9f3a"
             ],
             [
              0.8888888888888888,
              "#fdca26"
             ],
             [
              1,
              "#f0f921"
             ]
            ],
            "type": "histogram2d"
           }
          ],
          "histogram2dcontour": [
           {
            "colorbar": {
             "outlinewidth": 0,
             "ticks": ""
            },
            "colorscale": [
             [
              0,
              "#0d0887"
             ],
             [
              0.1111111111111111,
              "#46039f"
             ],
             [
              0.2222222222222222,
              "#7201a8"
             ],
             [
              0.3333333333333333,
              "#9c179e"
             ],
             [
              0.4444444444444444,
              "#bd3786"
             ],
             [
              0.5555555555555556,
              "#d8576b"
             ],
             [
              0.6666666666666666,
              "#ed7953"
             ],
             [
              0.7777777777777778,
              "#fb9f3a"
             ],
             [
              0.8888888888888888,
              "#fdca26"
             ],
             [
              1,
              "#f0f921"
             ]
            ],
            "type": "histogram2dcontour"
           }
          ],
          "mesh3d": [
           {
            "colorbar": {
             "outlinewidth": 0,
             "ticks": ""
            },
            "type": "mesh3d"
           }
          ],
          "parcoords": [
           {
            "line": {
             "colorbar": {
              "outlinewidth": 0,
              "ticks": ""
             }
            },
            "type": "parcoords"
           }
          ],
          "pie": [
           {
            "automargin": true,
            "type": "pie"
           }
          ],
          "scatter": [
           {
            "fillpattern": {
             "fillmode": "overlay",
             "size": 10,
             "solidity": 0.2
            },
            "type": "scatter"
           }
          ],
          "scatter3d": [
           {
            "line": {
             "colorbar": {
              "outlinewidth": 0,
              "ticks": ""
             }
            },
            "marker": {
             "colorbar": {
              "outlinewidth": 0,
              "ticks": ""
             }
            },
            "type": "scatter3d"
           }
          ],
          "scattercarpet": [
           {
            "marker": {
             "colorbar": {
              "outlinewidth": 0,
              "ticks": ""
             }
            },
            "type": "scattercarpet"
           }
          ],
          "scattergeo": [
           {
            "marker": {
             "colorbar": {
              "outlinewidth": 0,
              "ticks": ""
             }
            },
            "type": "scattergeo"
           }
          ],
          "scattergl": [
           {
            "marker": {
             "colorbar": {
              "outlinewidth": 0,
              "ticks": ""
             }
            },
            "type": "scattergl"
           }
          ],
          "scattermapbox": [
           {
            "marker": {
             "colorbar": {
              "outlinewidth": 0,
              "ticks": ""
             }
            },
            "type": "scattermapbox"
           }
          ],
          "scatterpolar": [
           {
            "marker": {
             "colorbar": {
              "outlinewidth": 0,
              "ticks": ""
             }
            },
            "type": "scatterpolar"
           }
          ],
          "scatterpolargl": [
           {
            "marker": {
             "colorbar": {
              "outlinewidth": 0,
              "ticks": ""
             }
            },
            "type": "scatterpolargl"
           }
          ],
          "scatterternary": [
           {
            "marker": {
             "colorbar": {
              "outlinewidth": 0,
              "ticks": ""
             }
            },
            "type": "scatterternary"
           }
          ],
          "surface": [
           {
            "colorbar": {
             "outlinewidth": 0,
             "ticks": ""
            },
            "colorscale": [
             [
              0,
              "#0d0887"
             ],
             [
              0.1111111111111111,
              "#46039f"
             ],
             [
              0.2222222222222222,
              "#7201a8"
             ],
             [
              0.3333333333333333,
              "#9c179e"
             ],
             [
              0.4444444444444444,
              "#bd3786"
             ],
             [
              0.5555555555555556,
              "#d8576b"
             ],
             [
              0.6666666666666666,
              "#ed7953"
             ],
             [
              0.7777777777777778,
              "#fb9f3a"
             ],
             [
              0.8888888888888888,
              "#fdca26"
             ],
             [
              1,
              "#f0f921"
             ]
            ],
            "type": "surface"
           }
          ],
          "table": [
           {
            "cells": {
             "fill": {
              "color": "#EBF0F8"
             },
             "line": {
              "color": "white"
             }
            },
            "header": {
             "fill": {
              "color": "#C8D4E3"
             },
             "line": {
              "color": "white"
             }
            },
            "type": "table"
           }
          ]
         },
         "layout": {
          "annotationdefaults": {
           "arrowcolor": "#2a3f5f",
           "arrowhead": 0,
           "arrowwidth": 1
          },
          "autotypenumbers": "strict",
          "coloraxis": {
           "colorbar": {
            "outlinewidth": 0,
            "ticks": ""
           }
          },
          "colorscale": {
           "diverging": [
            [
             0,
             "#8e0152"
            ],
            [
             0.1,
             "#c51b7d"
            ],
            [
             0.2,
             "#de77ae"
            ],
            [
             0.3,
             "#f1b6da"
            ],
            [
             0.4,
             "#fde0ef"
            ],
            [
             0.5,
             "#f7f7f7"
            ],
            [
             0.6,
             "#e6f5d0"
            ],
            [
             0.7,
             "#b8e186"
            ],
            [
             0.8,
             "#7fbc41"
            ],
            [
             0.9,
             "#4d9221"
            ],
            [
             1,
             "#276419"
            ]
           ],
           "sequential": [
            [
             0,
             "#0d0887"
            ],
            [
             0.1111111111111111,
             "#46039f"
            ],
            [
             0.2222222222222222,
             "#7201a8"
            ],
            [
             0.3333333333333333,
             "#9c179e"
            ],
            [
             0.4444444444444444,
             "#bd3786"
            ],
            [
             0.5555555555555556,
             "#d8576b"
            ],
            [
             0.6666666666666666,
             "#ed7953"
            ],
            [
             0.7777777777777778,
             "#fb9f3a"
            ],
            [
             0.8888888888888888,
             "#fdca26"
            ],
            [
             1,
             "#f0f921"
            ]
           ],
           "sequentialminus": [
            [
             0,
             "#0d0887"
            ],
            [
             0.1111111111111111,
             "#46039f"
            ],
            [
             0.2222222222222222,
             "#7201a8"
            ],
            [
             0.3333333333333333,
             "#9c179e"
            ],
            [
             0.4444444444444444,
             "#bd3786"
            ],
            [
             0.5555555555555556,
             "#d8576b"
            ],
            [
             0.6666666666666666,
             "#ed7953"
            ],
            [
             0.7777777777777778,
             "#fb9f3a"
            ],
            [
             0.8888888888888888,
             "#fdca26"
            ],
            [
             1,
             "#f0f921"
            ]
           ]
          },
          "colorway": [
           "#636efa",
           "#EF553B",
           "#00cc96",
           "#ab63fa",
           "#FFA15A",
           "#19d3f3",
           "#FF6692",
           "#B6E880",
           "#FF97FF",
           "#FECB52"
          ],
          "font": {
           "color": "#2a3f5f"
          },
          "geo": {
           "bgcolor": "white",
           "lakecolor": "white",
           "landcolor": "#E5ECF6",
           "showlakes": true,
           "showland": true,
           "subunitcolor": "white"
          },
          "hoverlabel": {
           "align": "left"
          },
          "hovermode": "closest",
          "mapbox": {
           "style": "light"
          },
          "paper_bgcolor": "white",
          "plot_bgcolor": "#E5ECF6",
          "polar": {
           "angularaxis": {
            "gridcolor": "white",
            "linecolor": "white",
            "ticks": ""
           },
           "bgcolor": "#E5ECF6",
           "radialaxis": {
            "gridcolor": "white",
            "linecolor": "white",
            "ticks": ""
           }
          },
          "scene": {
           "xaxis": {
            "backgroundcolor": "#E5ECF6",
            "gridcolor": "white",
            "gridwidth": 2,
            "linecolor": "white",
            "showbackground": true,
            "ticks": "",
            "zerolinecolor": "white"
           },
           "yaxis": {
            "backgroundcolor": "#E5ECF6",
            "gridcolor": "white",
            "gridwidth": 2,
            "linecolor": "white",
            "showbackground": true,
            "ticks": "",
            "zerolinecolor": "white"
           },
           "zaxis": {
            "backgroundcolor": "#E5ECF6",
            "gridcolor": "white",
            "gridwidth": 2,
            "linecolor": "white",
            "showbackground": true,
            "ticks": "",
            "zerolinecolor": "white"
           }
          },
          "shapedefaults": {
           "line": {
            "color": "#2a3f5f"
           }
          },
          "ternary": {
           "aaxis": {
            "gridcolor": "white",
            "linecolor": "white",
            "ticks": ""
           },
           "baxis": {
            "gridcolor": "white",
            "linecolor": "white",
            "ticks": ""
           },
           "bgcolor": "#E5ECF6",
           "caxis": {
            "gridcolor": "white",
            "linecolor": "white",
            "ticks": ""
           }
          },
          "title": {
           "x": 0.05
          },
          "xaxis": {
           "automargin": true,
           "gridcolor": "white",
           "linecolor": "white",
           "ticks": "",
           "title": {
            "standoff": 15
           },
           "zerolinecolor": "white",
           "zerolinewidth": 2
          },
          "yaxis": {
           "automargin": true,
           "gridcolor": "white",
           "linecolor": "white",
           "ticks": "",
           "title": {
            "standoff": 15
           },
           "zerolinecolor": "white",
           "zerolinewidth": 2
          }
         }
        },
        "title": {
         "text": "Unique Word Embeddings"
        },
        "xaxis": {
         "title": {
          "text": "PCA Dimension 1"
         }
        },
        "yaxis": {
         "title": {
          "text": "PCA Dimension 2"
         }
        }
       }
      }
     },
     "metadata": {},
     "output_type": "display_data"
    }
   ],
   "source": [
    "from sklearn.decomposition import PCA\n",
    "from matplotlib import pyplot\n",
    "\n",
    "# all unique words in Reuters corpora that will make a word cloud that is diffuclut to investigate.\n",
    "#unique_words = list(set(word for sentence in cleaned_sentences for word in sentence))\n",
    "\n",
    "# some fewer words that are easy to display and investigate\n",
    "# unique_words = ['president', 'chairman','dollar', 'money','rate','oil', 'trade','fuel', 'stock','recovery']\n",
    "unique_words = ['industry', 'product','cost', 'domestic','conflict','billion', 'chairman','minister', 'money','stimulate']\n",
    "\n",
    "\n",
    "# Retrieve the word vectors for only the unique words\n",
    "# not preprocessed word2model\n",
    "X = [cleaned_model.wv[word] for word in unique_words if word in cleaned_model.wv]\n",
    "\n",
    "\n",
    "print(len(unique_words))\n",
    "# Fit a 2d PCA model to the vectors\n",
    "pca = PCA(n_components=2)\n",
    "result = pca.fit_transform(X)\n",
    "\n",
    "# Extract coordinates\n",
    "x_coords = result[:, 0]\n",
    "y_coords = result[:, 1]\n",
    "\n",
    "# Create a scatter plot\n",
    "scatter = go.Scatter(x=x_coords, y=y_coords, mode='markers+text', text=unique_words, textposition='top center')\n",
    "\n",
    "# Define layout\n",
    "layout = go.Layout(\n",
    "    title='Unique Word Embeddings',\n",
    "    xaxis=dict(title='PCA Dimension 1'),\n",
    "    yaxis=dict(title='PCA Dimension 2')\n",
    ")\n",
    "\n",
    "# Define figure and plot\n",
    "fig = go.Figure(data=[scatter], layout=layout)\n",
    "fig.show()"
   ]
  },
  {
   "cell_type": "markdown",
   "id": "dress-implement",
   "metadata": {
    "id": "dress-implement"
   },
   "source": [
    "### Question 10 What do you think about the visual representation, please play around with the words and check for relationsships\n",
    "\n",
    "Conclusion:\n",
    "In this lab, you've learned the basics of Word2Vec, including training a Word2Vec model, exploring word similarity, and understanding word analogy. Word2Vec is a powerful tool for natural language processing tasks and has various applications in text analysis.\n"
   ]
  }
 ],
 "metadata": {
  "colab": {
   "provenance": []
  },
  "kernelspec": {
   "display_name": "Python 3",
   "language": "python",
   "name": "python3"
  },
  "language_info": {
   "codemirror_mode": {
    "name": "ipython",
    "version": 3
   },
   "file_extension": ".py",
   "mimetype": "text/x-python",
   "name": "python",
   "nbconvert_exporter": "python",
   "pygments_lexer": "ipython3",
   "version": "3.11.5"
  }
 },
 "nbformat": 4,
 "nbformat_minor": 5
}
